{
 "cells": [
  {
   "cell_type": "markdown",
   "metadata": {},
   "source": [
    "# Regression Week 3: Assessing Fit (polynomial regression)"
   ]
  },
  {
   "cell_type": "markdown",
   "metadata": {},
   "source": [
    "In this notebook you will compare different regression models in order to assess which model fits best. We will be using polynomial regression as a means to examine this topic. In particular you will:\n",
    "* Write a function to take an SArray and a degree and return an SFrame where each column is the SArray to a polynomial value up to the total degree e.g. degree = 3 then column 1 is the SArray column 2 is the SArray squared and column 3 is the SArray cubed\n",
    "* Use matplotlib to visualize polynomial regressions\n",
    "* Use matplotlib to visualize the same polynomial degree on different subsets of the data\n",
    "* Use a validation set to select a polynomial degree\n",
    "* Assess the final fit using test data\n",
    "\n",
    "We will continue to use the House data from previous notebooks."
   ]
  },
  {
   "cell_type": "code",
   "execution_count": 1,
   "metadata": {
    "collapsed": false
   },
   "outputs": [
    {
     "name": "stderr",
     "output_type": "stream",
     "text": [
      "C:\\Users\\Home\\Anaconda2\\lib\\site-packages\\matplotlib\\__init__.py:872: UserWarning: axes.color_cycle is deprecated and replaced with axes.prop_cycle; please use the latter.\n",
      "  warnings.warn(self.msg_depr % (key, alt_key))\n"
     ]
    }
   ],
   "source": [
    "import numpy as np\n",
    "import pandas as pd\n",
    "import statsmodels.api as sm\n",
    "import matplotlib.pyplot as pl\n",
    "import seaborn as sns"
   ]
  },
  {
   "cell_type": "code",
   "execution_count": 2,
   "metadata": {
    "collapsed": true
   },
   "outputs": [],
   "source": [
    "%matplotlib inline"
   ]
  },
  {
   "cell_type": "markdown",
   "metadata": {},
   "source": [
    "Next we're going to write a polynomial function that takes an SArray and a maximal degree and returns an SFrame with columns containing the SArray to all the powers up to the maximal degree.\n",
    "\n",
    "The easiest way to apply a power to an SArray is to use the .apply() and lambda x: functions. \n",
    "For example to take the example array and compute the third power we can do as follows: (note running this cell the first time may take longer than expected since it loads graphlab)"
   ]
  },
  {
   "cell_type": "code",
   "execution_count": 3,
   "metadata": {
    "collapsed": false
   },
   "outputs": [
    {
     "name": "stdout",
     "output_type": "stream",
     "text": [
      "   0\n",
      "0  1\n",
      "1  2\n",
      "2  3\n",
      "    0\n",
      "0   1\n",
      "1   8\n",
      "2  27\n"
     ]
    }
   ],
   "source": [
    "tmp =  pd.DataFrame(np.array([1., 2., 3.]))\n",
    "tmp_cubed = tmp.apply(lambda x: x**3)\n",
    "print tmp\n",
    "print tmp_cubed"
   ]
  },
  {
   "cell_type": "markdown",
   "metadata": {},
   "source": [
    "We can create an empty SFrame using graphlab.SFrame() and then add any columns to it with ex_sframe['column_name'] = value. For example we create an empty SFrame and make the column 'power_1' to be the first power of tmp (i.e. tmp itself)."
   ]
  },
  {
   "cell_type": "code",
   "execution_count": 4,
   "metadata": {
    "collapsed": false
   },
   "outputs": [
    {
     "name": "stdout",
     "output_type": "stream",
     "text": [
      "   0\n",
      "0  1\n",
      "1  2\n",
      "2  3\n"
     ]
    }
   ],
   "source": [
    "ex_sframe = tmp.copy()\n",
    "print ex_sframe"
   ]
  },
  {
   "cell_type": "markdown",
   "metadata": {},
   "source": [
    "# Polynomial_sframe function"
   ]
  },
  {
   "cell_type": "markdown",
   "metadata": {},
   "source": [
    "Using the hints above complete the following function to create an SFrame consisting of the powers of an SArray up to a specific degree:"
   ]
  },
  {
   "cell_type": "code",
   "execution_count": 6,
   "metadata": {
    "collapsed": true
   },
   "outputs": [],
   "source": [
    "def polynomial_df(feature, degree):\n",
    "    # assume that degree >= 1\n",
    "    # initialize the SFrame:\n",
    "    poly_df = pd.DataFrame(feature)\n",
    "    # and set poly_sframe['power_1'] equal to the passed feature\n",
    "    poly_df.columns = ['power_1']\n",
    "    # first check if degree > 1\n",
    "    if degree > 1:\n",
    "        # then loop over the remaining degrees:\n",
    "        # range usually starts at 0 and stops at the endpoint-1. We want it to start at 2 and stop at degree\n",
    "        for power in range(2, degree+1): \n",
    "            # first we'll give the column a name:\n",
    "            name = 'power_' + str(power)\n",
    "            # then assign poly_sframe[name] to the appropriate power of feature\n",
    "            poly_df[name] = poly_df.power_1.apply(lambda x : x ** power)\n",
    "\n",
    "    return poly_df"
   ]
  },
  {
   "cell_type": "markdown",
   "metadata": {},
   "source": [
    "To test your function consider the smaller tmp variable and what you would expect the outcome of the following call:"
   ]
  },
  {
   "cell_type": "code",
   "execution_count": 6,
   "metadata": {
    "collapsed": false
   },
   "outputs": [
    {
     "name": "stdout",
     "output_type": "stream",
     "text": [
      "   power_1  power_2  power_3\n",
      "0        1        1        1\n",
      "1        2        4        8\n",
      "2        3        9       27\n"
     ]
    }
   ],
   "source": [
    "print polynomial_df(tmp, 3)"
   ]
  },
  {
   "cell_type": "markdown",
   "metadata": {},
   "source": [
    "# Visualizing polynomial regression"
   ]
  },
  {
   "cell_type": "markdown",
   "metadata": {},
   "source": [
    "Let's use matplotlib to visualize what a polynomial regression looks like on some real data."
   ]
  },
  {
   "cell_type": "code",
   "execution_count": 2,
   "metadata": {
    "collapsed": true
   },
   "outputs": [],
   "source": [
    "dtype_dict = {'bathrooms': float, 'waterfront': int, 'sqft_above': int,\n",
    "                  'sqft_living15': float, 'grade': int, 'yr_renovated': int,\n",
    "                  'price': float, 'bedrooms': float, 'zipcode': str,\n",
    "                  'long': float, 'sqft_lot15': float, 'sqft_living': float,\n",
    "                  'floors': str, 'condition': int, 'lat': float, 'date': str,\n",
    "                  'sqft_basement': int, 'yr_built': int, 'id': str,\n",
    "                  'sqft_lot': int, 'view': int}"
   ]
  },
  {
   "cell_type": "code",
   "execution_count": 8,
   "metadata": {
    "collapsed": true
   },
   "outputs": [],
   "source": [
    "train = pd.read_csv(\"kc_house_train_data.csv\", dtype=dtype_dict)\n",
    "test = pd.read_csv('kc_house_test_data.csv', dtype=dtype_dict)\n",
    "train['is_test'] = False\n",
    "test['is_test'] = True\n",
    "sales = pd.concat([train, test])"
   ]
  },
  {
   "cell_type": "markdown",
   "metadata": {},
   "source": [
    "As in Week 3, we will use the sqft_living variable. For plotting purposes (connecting the dots), you'll need to sort by the values of sqft_living. For houses with identical square footage, we break the tie by their prices."
   ]
  },
  {
   "cell_type": "code",
   "execution_count": 9,
   "metadata": {
    "collapsed": false
   },
   "outputs": [],
   "source": [
    "sales = sales.sort(['sqft_living', 'price'])"
   ]
  },
  {
   "cell_type": "markdown",
   "metadata": {},
   "source": [
    "Let's start with a degree 1 polynomial using 'sqft_living' (i.e. a line) to predict 'price' and plot what it looks like."
   ]
  },
  {
   "cell_type": "code",
   "execution_count": 10,
   "metadata": {
    "collapsed": false
   },
   "outputs": [],
   "source": [
    "poly1_data = polynomial_df(sales['sqft_living'], 1)\n",
    "poly1_data['price'] = sales['price'] # add price to the data since it's the target"
   ]
  },
  {
   "cell_type": "code",
   "execution_count": 11,
   "metadata": {
    "collapsed": true
   },
   "outputs": [],
   "source": [
    "# create helper function to build modles\n",
    "def make_mod(df,depvar, invar):\n",
    "    X = df[invar]\n",
    "    y = df[depvar]\n",
    "    X = sm.add_constant(X)\n",
    "    mod = sm.OLS(y,X).fit()\n",
    "    return mod"
   ]
  },
  {
   "cell_type": "code",
   "execution_count": 12,
   "metadata": {
    "collapsed": false
   },
   "outputs": [],
   "source": [
    "mod1 = make_mod(poly1_data, 'price', 'power_1')"
   ]
  },
  {
   "cell_type": "code",
   "execution_count": 13,
   "metadata": {
    "collapsed": false
   },
   "outputs": [
    {
     "data": {
      "text/plain": [
       "const     -43580.743094\n",
       "power_1      280.623568\n",
       "dtype: float64"
      ]
     },
     "execution_count": 13,
     "metadata": {},
     "output_type": "execute_result"
    }
   ],
   "source": [
    "#let's take a look at the weights before we plot\n",
    "mod1.params"
   ]
  },
  {
   "cell_type": "code",
   "execution_count": 14,
   "metadata": {
    "collapsed": false
   },
   "outputs": [
    {
     "data": {
      "text/plain": [
       "[<matplotlib.lines.Line2D at 0x1750fcf8>,\n",
       " <matplotlib.lines.Line2D at 0x1750ff60>]"
      ]
     },
     "execution_count": 14,
     "metadata": {},
     "output_type": "execute_result"
    },
    {
     "data": {
      "image/png": "[encoded data removed]",
      "text/plain": [
       "<matplotlib.figure.Figure at 0x16c019e8>"
      ]
     },
     "metadata": {},
     "output_type": "display_data"
    }
   ],
   "source": [
    "pl.plot(poly1_data['power_1'],poly1_data['price'],'.',\n",
    "        poly1_data['power_1'], mod1.predict(poly1_data),'-')"
   ]
  },
  {
   "cell_type": "markdown",
   "metadata": {},
   "source": [
    "Let's unpack that plt.plot() command. The first pair of SArrays we passed are the 1st power of sqft and the actual price we then ask it to print these as dots '.'. The next pair we pass is the 1st power of sqft and the predicted values from the linear model. We ask these to be plotted as a line '-'. \n",
    "\n",
    "We can see, not surprisingly, that the predicted values all fall on a line, specifically the one with slope 280 and intercept -43579. What if we wanted to plot a second degree polynomial?"
   ]
  },
  {
   "cell_type": "code",
   "execution_count": 15,
   "metadata": {
    "collapsed": false
   },
   "outputs": [],
   "source": [
    "poly2_data = polynomial_df(sales['sqft_living'], 2)\n",
    "my_features = poly2_data.columns[0:2] # get the name of the features\n",
    "poly2_data['price'] = sales['price'] # add price to the data since it's the target\n",
    "mod2 = make_mod(poly2_data, 'price', my_features)"
   ]
  },
  {
   "cell_type": "code",
   "execution_count": 16,
   "metadata": {
    "collapsed": false
   },
   "outputs": [
    {
     "data": {
      "text/plain": [
       "const      199222.279306\n",
       "power_1        67.994095\n",
       "power_2         0.038581\n",
       "dtype: float64"
      ]
     },
     "execution_count": 16,
     "metadata": {},
     "output_type": "execute_result"
    }
   ],
   "source": [
    "mod2.params"
   ]
  },
  {
   "cell_type": "code",
   "execution_count": 17,
   "metadata": {
    "collapsed": false
   },
   "outputs": [
    {
     "data": {
      "text/plain": [
       "[<matplotlib.lines.Line2D at 0x183dfa90>,\n",
       " <matplotlib.lines.Line2D at 0x183dfcc0>]"
      ]
     },
     "execution_count": 17,
     "metadata": {},
     "output_type": "execute_result"
    },
    {
     "data": {
      "image/png": "[encoded data removed]",
      "text/plain": [
       "<matplotlib.figure.Figure at 0x174d6a20>"
      ]
     },
     "metadata": {},
     "output_type": "display_data"
    }
   ],
   "source": [
    "pl.plot(poly2_data['power_2'],poly2_data['price'],'.',\n",
    "        poly2_data['power_2'], mod2.predict(poly2_data),'-')"
   ]
  },
  {
   "cell_type": "markdown",
   "metadata": {},
   "source": [
    "The resulting model looks like half a parabola. Try on your own to see what the cubic looks like:"
   ]
  },
  {
   "cell_type": "code",
   "execution_count": 18,
   "metadata": {
    "collapsed": false
   },
   "outputs": [],
   "source": [
    "poly3_data = polynomial_df(sales['sqft_living'], 3)\n",
    "my_features = poly3_data.columns # get the name of the features\n",
    "poly3_data['price'] = sales['price'] # add price to the data since it's the target\n",
    "mod3 = make_mod(poly3_data, 'price', my_features)"
   ]
  },
  {
   "cell_type": "code",
   "execution_count": 19,
   "metadata": {
    "collapsed": false
   },
   "outputs": [
    {
     "data": {
      "text/plain": [
       "[<matplotlib.lines.Line2D at 0x18a5f2b0>,\n",
       " <matplotlib.lines.Line2D at 0x18a5f4e0>]"
      ]
     },
     "execution_count": 19,
     "metadata": {},
     "output_type": "execute_result"
    },
    {
     "data": {
      "image/png": "[encoded data removed]",
      "text/plain": [
       "<matplotlib.figure.Figure at 0x1853e9b0>"
      ]
     },
     "metadata": {},
     "output_type": "display_data"
    }
   ],
   "source": [
    "pl.plot(poly3_data['power_3'],poly3_data['price'],'.',\n",
    "        poly3_data['power_3'], mod3.predict(poly3_data),'-')"
   ]
  },
  {
   "cell_type": "markdown",
   "metadata": {},
   "source": [
    "Now try a 15th degree polynomial:"
   ]
  },
  {
   "cell_type": "code",
   "execution_count": 20,
   "metadata": {
    "collapsed": false
   },
   "outputs": [],
   "source": [
    "poly15_data = polynomial_df(sales['sqft_living'], 15)\n",
    "my_features = poly15_data.columns # get the name of the features\n",
    "poly15_data['price'] = sales['price'] # add price to the data since it's the target\n",
    "mod15 = make_mod(poly15_data, 'price', my_features)"
   ]
  },
  {
   "cell_type": "code",
   "execution_count": 21,
   "metadata": {
    "collapsed": false
   },
   "outputs": [
    {
     "data": {
      "text/plain": [
       "[<matplotlib.lines.Line2D at 0x1aece278>,\n",
       " <matplotlib.lines.Line2D at 0x1aece4a8>]"
      ]
     },
     "execution_count": 21,
     "metadata": {},
     "output_type": "execute_result"
    },
    {
     "data": {
      "image/png": "[encoded data removed]",
      "text/plain": [
       "<matplotlib.figure.Figure at 0x1860f8d0>"
      ]
     },
     "metadata": {},
     "output_type": "display_data"
    }
   ],
   "source": [
    "pl.plot(poly15_data['power_15'],poly15_data['price'],'.',\n",
    "        poly15_data['power_15'], mod15.predict(poly15_data),'-')"
   ]
  },
  {
   "cell_type": "markdown",
   "metadata": {},
   "source": [
    "What do you think of the 15th degree polynomial? Do you think this is appropriate? If we were to change the data do you think you'd get pretty much the same curve? Let's take a look."
   ]
  },
  {
   "cell_type": "markdown",
   "metadata": {},
   "source": [
    "# Changing the data and re-learning"
   ]
  },
  {
   "cell_type": "markdown",
   "metadata": {},
   "source": [
    "We're going to split the sales data into four subsets of roughly equal size. Then you will estimate a 15th degree polynomial model on all four subsets of the data. Print the coefficients (you should use .print_rows(num_rows = 16) to view all of them) and plot the resulting fit (as we did above). The quiz will ask you some questions about these results.\n",
    "\n",
    "To split the sales data into four subsets, we perform the following steps:\n",
    "* First split sales into 2 subsets with `.random_split(0.5, seed=0)`. \n",
    "* Next split the resulting subsets into 2 more subsets each. Use `.random_split(0.5, seed=0)`.\n",
    "\n",
    "We set `seed=0` in these steps so that different users get consistent results.\n",
    "You should end up with 4 subsets (`set_1`, `set_2`, `set_3`, `set_4`) of approximately equal size. "
   ]
  },
  {
   "cell_type": "code",
   "execution_count": 3,
   "metadata": {
    "collapsed": false
   },
   "outputs": [],
   "source": [
    "set_1 = pd.read_csv(\"wk3_kc_house_set_1_data.csv\", dtype = dtype_dict)\n",
    "set_2 = pd.read_csv(\"wk3_kc_house_set_2_data.csv\", dtype = dtype_dict)\n",
    "set_3 = pd.read_csv(\"wk3_kc_house_set_3_data.csv\", dtype = dtype_dict)\n",
    "set_4 = pd.read_csv(\"wk3_kc_house_set_4_data.csv\", dtype = dtype_dict)"
   ]
  },
  {
   "cell_type": "code",
   "execution_count": 4,
   "metadata": {
    "collapsed": true
   },
   "outputs": [],
   "source": [
    "set_1.index.name = 'set_1'\n",
    "set_2.index.name = 'set_2'\n",
    "set_3.index.name = 'set_3'\n",
    "set_4.index.name = 'set_4'"
   ]
  },
  {
   "cell_type": "markdown",
   "metadata": {},
   "source": [
    "Fit a 15th degree polynomial on set_1, set_2, set_3, and set_4 using sqft_living to predict prices. Print the coefficients and make a plot of the resulting model."
   ]
  },
  {
   "cell_type": "code",
   "execution_count": 7,
   "metadata": {
    "collapsed": false
   },
   "outputs": [],
   "source": [
    "data_sets = [set_1, set_2, set_3, set_4]\n",
    "\n",
    "sets = []\n",
    "\n",
    "for s in data_sets: \n",
    "    s['df_name'] = s.index.name\n",
    "    p_df = polynomial_df(s['sqft_living'], 15)\n",
    "    p_df['price'] = s.price\n",
    "    sets.append(p_df)"
   ]
  },
  {
   "cell_type": "code",
   "execution_count": 8,
   "metadata": {
    "collapsed": false
   },
   "outputs": [],
   "source": [
    "## fit a polynomial and then return the model\n",
    "def fit_poly(set_number) :\n",
    "    df = pd.DataFrame(sets[set_number])\n",
    "    df = df.reset_index()\n",
    "    X = df[df.columns[:-1]]\n",
    "    y = df['price']\n",
    "    X = sm.add_constant(X)\n",
    "    mod = sm.OLS(y,X).fit()\n",
    "    return mod"
   ]
  },
  {
   "cell_type": "code",
   "execution_count": 9,
   "metadata": {
    "collapsed": false
   },
   "outputs": [],
   "source": [
    "set_1mod = fit_poly(0)\n",
    "set_2mod = fit_poly(1)\n",
    "set_3mod = fit_poly(2)\n",
    "set_4mod = fit_poly(3)"
   ]
  },
  {
   "cell_type": "code",
   "execution_count": 13,
   "metadata": {
    "collapsed": false
   },
   "outputs": [
    {
     "data": {
      "text/html": [
       "<div>\n",
       "<table border=\"1\" class=\"dataframe\">\n",
       "  <thead>\n",
       "    <tr style=\"text-align: right;\">\n",
       "      <th></th>\n",
       "      <th>0</th>\n",
       "      <th>1</th>\n",
       "      <th>2</th>\n",
       "      <th>3</th>\n",
       "    </tr>\n",
       "  </thead>\n",
       "  <tbody>\n",
       "    <tr>\n",
       "      <th>const</th>\n",
       "      <td>6.998479e-94</td>\n",
       "      <td>3.517945e-90</td>\n",
       "      <td>9.177576e-92</td>\n",
       "      <td>1.071068e-79</td>\n",
       "    </tr>\n",
       "    <tr>\n",
       "      <th>power_1</th>\n",
       "      <td>-1.080836e-54</td>\n",
       "      <td>1.734241e-53</td>\n",
       "      <td>-9.974575e-55</td>\n",
       "      <td>2.192419e-44</td>\n",
       "    </tr>\n",
       "    <tr>\n",
       "      <th>power_10</th>\n",
       "      <td>3.787194e-55</td>\n",
       "      <td>6.021428e-53</td>\n",
       "      <td>7.159580e-54</td>\n",
       "      <td>9.021288e-44</td>\n",
       "    </tr>\n",
       "    <tr>\n",
       "      <th>power_11</th>\n",
       "      <td>2.365357e-51</td>\n",
       "      <td>2.627828e-49</td>\n",
       "      <td>3.624982e-50</td>\n",
       "      <td>2.293589e-40</td>\n",
       "    </tr>\n",
       "    <tr>\n",
       "      <th>power_12</th>\n",
       "      <td>1.249831e-47</td>\n",
       "      <td>9.660086e-46</td>\n",
       "      <td>1.545534e-46</td>\n",
       "      <td>3.687437e-37</td>\n",
       "    </tr>\n",
       "    <tr>\n",
       "      <th>power_13</th>\n",
       "      <td>4.466425e-44</td>\n",
       "      <td>2.391397e-42</td>\n",
       "      <td>4.435903e-43</td>\n",
       "      <td>-1.549726e-40</td>\n",
       "    </tr>\n",
       "    <tr>\n",
       "      <th>power_14</th>\n",
       "      <td>-6.956928e-48</td>\n",
       "      <td>-5.717156e-46</td>\n",
       "      <td>-8.990862e-47</td>\n",
       "      <td>2.162990e-44</td>\n",
       "    </tr>\n",
       "    <tr>\n",
       "      <th>power_15</th>\n",
       "      <td>2.702043e-52</td>\n",
       "      <td>3.390889e-50</td>\n",
       "      <td>4.562005e-51</td>\n",
       "      <td>-1.002357e-48</td>\n",
       "    </tr>\n",
       "    <tr>\n",
       "      <th>power_2</th>\n",
       "      <td>4.958728e-60</td>\n",
       "      <td>7.964952e-58</td>\n",
       "      <td>-1.477453e-58</td>\n",
       "      <td>2.339335e-49</td>\n",
       "    </tr>\n",
       "    <tr>\n",
       "      <th>power_3</th>\n",
       "      <td>3.026568e-64</td>\n",
       "      <td>8.102368e-63</td>\n",
       "      <td>2.890864e-79</td>\n",
       "      <td>-4.093992e-53</td>\n",
       "    </tr>\n",
       "    <tr>\n",
       "      <th>power_4</th>\n",
       "      <td>2.321311e-78</td>\n",
       "      <td>-1.149578e-73</td>\n",
       "      <td>5.610206e-75</td>\n",
       "      <td>-9.995097e-57</td>\n",
       "    </tr>\n",
       "    <tr>\n",
       "      <th>power_5</th>\n",
       "      <td>1.784686e-74</td>\n",
       "      <td>1.611527e-71</td>\n",
       "      <td>9.068303e-73</td>\n",
       "      <td>1.307159e-61</td>\n",
       "    </tr>\n",
       "    <tr>\n",
       "      <th>power_6</th>\n",
       "      <td>1.366532e-70</td>\n",
       "      <td>8.767063e-68</td>\n",
       "      <td>5.735295e-69</td>\n",
       "      <td>5.367764e-58</td>\n",
       "    </tr>\n",
       "    <tr>\n",
       "      <th>power_7</th>\n",
       "      <td>1.035548e-66</td>\n",
       "      <td>4.710594e-64</td>\n",
       "      <td>3.580264e-65</td>\n",
       "      <td>2.139207e-54</td>\n",
       "    </tr>\n",
       "    <tr>\n",
       "      <th>power_8</th>\n",
       "      <td>7.699040e-63</td>\n",
       "      <td>2.476073e-60</td>\n",
       "      <td>2.185417e-61</td>\n",
       "      <td>8.137120e-51</td>\n",
       "    </tr>\n",
       "    <tr>\n",
       "      <th>power_9</th>\n",
       "      <td>5.543921e-59</td>\n",
       "      <td>1.256132e-56</td>\n",
       "      <td>1.287004e-57</td>\n",
       "      <td>2.875671e-47</td>\n",
       "    </tr>\n",
       "    <tr>\n",
       "      <th>set_1</th>\n",
       "      <td>-1.469431e-48</td>\n",
       "      <td>NaN</td>\n",
       "      <td>NaN</td>\n",
       "      <td>NaN</td>\n",
       "    </tr>\n",
       "    <tr>\n",
       "      <th>set_2</th>\n",
       "      <td>NaN</td>\n",
       "      <td>1.156643e-48</td>\n",
       "      <td>NaN</td>\n",
       "      <td>NaN</td>\n",
       "    </tr>\n",
       "    <tr>\n",
       "      <th>set_3</th>\n",
       "      <td>NaN</td>\n",
       "      <td>NaN</td>\n",
       "      <td>-9.882344e-50</td>\n",
       "      <td>NaN</td>\n",
       "    </tr>\n",
       "    <tr>\n",
       "      <th>set_4</th>\n",
       "      <td>NaN</td>\n",
       "      <td>NaN</td>\n",
       "      <td>NaN</td>\n",
       "      <td>2.734006e-39</td>\n",
       "    </tr>\n",
       "  </tbody>\n",
       "</table>\n",
       "</div>"
      ],
      "text/plain": [
       "                     0             1             2             3\n",
       "const     6.998479e-94  3.517945e-90  9.177576e-92  1.071068e-79\n",
       "power_1  -1.080836e-54  1.734241e-53 -9.974575e-55  2.192419e-44\n",
       "power_10  3.787194e-55  6.021428e-53  7.159580e-54  9.021288e-44\n",
       "power_11  2.365357e-51  2.627828e-49  3.624982e-50  2.293589e-40\n",
       "power_12  1.249831e-47  9.660086e-46  1.545534e-46  3.687437e-37\n",
       "power_13  4.466425e-44  2.391397e-42  4.435903e-43 -1.549726e-40\n",
       "power_14 -6.956928e-48 -5.717156e-46 -8.990862e-47  2.162990e-44\n",
       "power_15  2.702043e-52  3.390889e-50  4.562005e-51 -1.002357e-48\n",
       "power_2   4.958728e-60  7.964952e-58 -1.477453e-58  2.339335e-49\n",
       "power_3   3.026568e-64  8.102368e-63  2.890864e-79 -4.093992e-53\n",
       "power_4   2.321311e-78 -1.149578e-73  5.610206e-75 -9.995097e-57\n",
       "power_5   1.784686e-74  1.611527e-71  9.068303e-73  1.307159e-61\n",
       "power_6   1.366532e-70  8.767063e-68  5.735295e-69  5.367764e-58\n",
       "power_7   1.035548e-66  4.710594e-64  3.580264e-65  2.139207e-54\n",
       "power_8   7.699040e-63  2.476073e-60  2.185417e-61  8.137120e-51\n",
       "power_9   5.543921e-59  1.256132e-56  1.287004e-57  2.875671e-47\n",
       "set_1    -1.469431e-48           NaN           NaN           NaN\n",
       "set_2              NaN  1.156643e-48           NaN           NaN\n",
       "set_3              NaN           NaN -9.882344e-50           NaN\n",
       "set_4              NaN           NaN           NaN  2.734006e-39"
      ]
     },
     "execution_count": 13,
     "metadata": {},
     "output_type": "execute_result"
    }
   ],
   "source": [
    "pd.concat([set_1mod.params, set_2mod.params, set_3mod.params, set_4mod.params],1)"
   ]
  },
  {
   "cell_type": "code",
   "execution_count": 27,
   "metadata": {
    "collapsed": false
   },
   "outputs": [],
   "source": [
    "# plot ploynomial models\n",
    "def plot_poly(set_number, mod) :\n",
    "    df = pd.DataFrame(sets[set_number])\n",
    "    df = df.reset_index()\n",
    "    pl.plot(df['power_15'], df['price'],'.', df['power_15'], mod.predict(df),'-')"
   ]
  },
  {
   "cell_type": "code",
   "execution_count": 28,
   "metadata": {
    "collapsed": false
   },
   "outputs": [
    {
     "data": {
      "image/png": "[encoded data removed]",
      "text/plain": [
       "<matplotlib.figure.Figure at 0x18d21278>"
      ]
     },
     "metadata": {},
     "output_type": "display_data"
    }
   ],
   "source": [
    "#plot_poly(0, set_1mod)\n",
    "#plot_poly(1, set_2mod)\n",
    "#plot_poly(2,set3_mod)\n",
    "plot_poly(3, set_4mod)"
   ]
  },
  {
   "cell_type": "code",
   "execution_count": 29,
   "metadata": {
    "collapsed": false
   },
   "outputs": [
    {
     "name": "stdout",
     "output_type": "stream",
     "text": [
      "mod1 4.46642527907e-44\n",
      "mod2 2.39139658864e-42\n",
      "mod3 4.43590334942e-43\n",
      "mod4 -1.54972601078e-40\n"
     ]
    }
   ],
   "source": [
    "print \"mod1\" , set_1mod.params[14]\n",
    "print \"mod2\" , set_2mod.params[14]\n",
    "print \"mod3\" , set_3mod.params[14]\n",
    "print \"mod4\" , set_4mod.params[14]"
   ]
  },
  {
   "cell_type": "markdown",
   "metadata": {},
   "source": [
    "Some questions you will be asked on your quiz:\n",
    "\n",
    "**Quiz Question: Is the sign (positive or negative) for power_15 the same in all four models?**\n",
    "\n",
    "**Quiz Question: (True/False) the plotted fitted lines look the same in all four plots**"
   ]
  },
  {
   "cell_type": "markdown",
   "metadata": {},
   "source": [
    "# Selecting a Polynomial Degree"
   ]
  },
  {
   "cell_type": "markdown",
   "metadata": {},
   "source": [
    "Whenever we have a \"magic\" parameter like the degree of the polynomial there is one well-known way to select these parameters: validation set. (We will explore another approach in week 4).\n",
    "\n",
    "We split the sales dataset 3-way into training set, test set, and validation set as follows:\n",
    "\n",
    "* Split our sales data into 2 sets: `training_and_validation` and `testing`. Use `random_split(0.9, seed=1)`.\n",
    "* Further split our training data into two sets: `training` and `validation`. Use `random_split(0.5, seed=1)`.\n",
    "\n",
    "Again, we set `seed=1` to obtain consistent results for different users."
   ]
  },
  {
   "cell_type": "code",
   "execution_count": 35,
   "metadata": {
    "collapsed": true
   },
   "outputs": [],
   "source": [
    "valid = pd.read_csv(\"wk3_kc_house_valid_data.csv\", dtype = dtype_dict)\n",
    "train = pd.read_csv(\"kc_house_train_data.csv\", dtype=dtype_dict)\n",
    "test = pd.read_csv('kc_house_test_data.csv', dtype=dtype_dict)"
   ]
  },
  {
   "cell_type": "markdown",
   "metadata": {},
   "source": [
    "Next you should write a loop that does the following:\n",
    "* For degree in [1, 2, 3, 4, 5, 6, 7, 8, 9, 10, 11, 12, 13, 14, 15] (to get this in python type range(1, 15+1))\n",
    "    * Build an SFrame of polynomial data of train_data['sqft_living'] at the current degree\n",
    "    * hint: my_features = poly_data.column_names() gives you a list e.g. ['power_1', 'power_2', 'power_3'] which you might find useful for graphlab.linear_regression.create( features = my_features)\n",
    "    * Add train_data['price'] to the polynomial SFrame\n",
    "    * Learn a polynomial regression model to sqft vs price with that degree on TRAIN data\n",
    "    * Compute the RSS on VALIDATION data (here you will want to use .predict()) for that degree and you will need to make a polynmial SFrame using validation data.\n",
    "* Report which degree had the lowest RSS on validation data (remember python indexes from 0)\n",
    "\n",
    "(Note you can turn off the print out of linear_regression.create() with verbose = False)"
   ]
  },
  {
   "cell_type": "code",
   "execution_count": 106,
   "metadata": {
    "collapsed": false
   },
   "outputs": [],
   "source": [
    "degrees =  [1, 2, 3, 4, 5, 6, 7, 8, 9, 10, 11, 12, 13, 14, 15]\n",
    "\n",
    "for d in degrees:\n",
    "    tr = polynomial_df(train['sqft_living'], d)\n",
    "    val = polynomial_df(valid['sqft_living'], d)"
   ]
  },
  {
   "cell_type": "code",
   "execution_count": 107,
   "metadata": {
    "collapsed": false
   },
   "outputs": [],
   "source": [
    "tr['price'] = train.price\n",
    "val['price'] = valid.price"
   ]
  },
  {
   "cell_type": "code",
   "execution_count": 108,
   "metadata": {
    "collapsed": false
   },
   "outputs": [],
   "source": [
    "poly_models = {}\n",
    "\n",
    "for d in degrees:\n",
    "    mod_name =  'poly_' + str(d)\n",
    "    features = tr.ix[:,:d].columns\n",
    "    poly_models[mod_name] = make_mod(tr, 'price',features)"
   ]
  },
  {
   "cell_type": "markdown",
   "metadata": {},
   "source": [
    "**Quiz Question: Which degree (1, 2, …, 15) had the lowest RSS on Validation data?**"
   ]
  },
  {
   "cell_type": "markdown",
   "metadata": {},
   "source": [
    "Now that you have chosen the degree of your polynomial using validation data, compute the RSS of this model on TEST data. Report the RSS on your quiz."
   ]
  },
  {
   "cell_type": "code",
   "execution_count": 116,
   "metadata": {
    "collapsed": false
   },
   "outputs": [],
   "source": [
    "def get_poly_RSS(degree) :\n",
    "    mod_name = 'poly_' + str(degree)\n",
    "    X = val.ix[:,:degree]\n",
    "    X = sm.add_constant(X)\n",
    "    preds = poly_models[mod_name].predict(X)\n",
    "    RSS = sum((val.price - preds)**2)\n",
    "    return RSS"
   ]
  },
  {
   "cell_type": "code",
   "execution_count": 121,
   "metadata": {
    "collapsed": false
   },
   "outputs": [
    {
     "name": "stdout",
     "output_type": "stream",
     "text": [
      "poly 1 RSS : 6.27643406474e+14\n",
      "poly 2 RSS : 6.00516989421e+14\n",
      "poly 3 RSS : 5.79497985835e+14\n",
      "poly 4 RSS : 5.75484342256e+14\n",
      "poly 5 RSS : 6.23572080404e+14\n",
      "poly 6 RSS : 8.08930739801e+14\n",
      "poly 7 RSS : 1.21973416085e+15\n",
      "poly 8 RSS : 1.8335888603e+15\n",
      "poly 9 RSS : 2.48291969282e+15\n",
      "poly 10 RSS : 2.99141809902e+15\n",
      "poly 11 RSS : 3.73445816484e+15\n",
      "poly 12 RSS : 3.79240589713e+15\n",
      "poly 13 RSS : 3.82515830449e+15\n",
      "poly 14 RSS : 3.84535650537e+15\n",
      "poly 15 RSS : 3.85900950418e+15\n"
     ]
    }
   ],
   "source": [
    "for d in degrees:\n",
    "    print \"poly\",d , \"RSS :\",get_poly_RSS(d)"
   ]
  },
  {
   "cell_type": "markdown",
   "metadata": {},
   "source": [
    "**Quiz Question: what is the RSS on TEST data for the model with the degree selected from Validation data? (Make sure you got the correct degree from the previous question)**"
   ]
  },
  {
   "cell_type": "code",
   "execution_count": 126,
   "metadata": {
    "collapsed": true
   },
   "outputs": [],
   "source": [
    "X = polynomial_df(test['sqft_living'], 7)\n",
    "y = test.price\n",
    "X = sm.add_constant(X)"
   ]
  },
  {
   "cell_type": "code",
   "execution_count": 128,
   "metadata": {
    "collapsed": false
   },
   "outputs": [
    {
     "data": {
      "text/plain": [
       "526897025698913.44"
      ]
     },
     "execution_count": 128,
     "metadata": {},
     "output_type": "execute_result"
    }
   ],
   "source": [
    "sum((y - poly_models['poly_7'].predict(X))**2)"
   ]
  },
  {
   "cell_type": "code",
   "execution_count": 129,
   "metadata": {
    "collapsed": true
   },
   "outputs": [],
   "source": [
    "RSS = {}\n",
    "RSS_Test = {}"
   ]
  },
  {
   "cell_type": "code",
   "execution_count": 137,
   "metadata": {
    "collapsed": true
   },
   "outputs": [],
   "source": [
    "def polynomial_df(feature, degree):\n",
    "    new_df = pd.DataFrame()\n",
    "    new_df['power_1'] = np.array(feature)\n",
    "    if degree > 1:\n",
    "        for power in range(2, degree+1):\n",
    "            name = 'power_' + str(power)\n",
    "            new_df[name] = np.array(feature)**power\n",
    "    return new_df"
   ]
  },
  {
   "cell_type": "code",
   "execution_count": 138,
   "metadata": {
    "collapsed": true
   },
   "outputs": [],
   "source": [
    "from sklearn.linear_model import LinearRegression"
   ]
  },
  {
   "cell_type": "code",
   "execution_count": 139,
   "metadata": {
    "collapsed": false
   },
   "outputs": [
    {
     "name": "stdout",
     "output_type": "stream",
     "text": [
      "('Degree', '6', 'has the lowest RSS')\n",
      "2.50578399348e+14\n"
     ]
    }
   ],
   "source": [
    "for i in range(1, 15+1):\n",
    "    poly_data = polynomial_df(train['sqft_living'], i)\n",
    "    regressor = LinearRegression(fit_intercept=True)\n",
    "    X = np.array(poly_data)\n",
    "    y = np.array(train['price'])\n",
    "    model = regressor.fit(X,y)\n",
    "    \n",
    "    valid_x = np.array(polynomial_df(valid['sqft_living'], i))\n",
    "    valid_y = np.array(valid['price'])\n",
    "    RSS[str(i)] = np.sum((model.predict(valid_x) - valid_y) **2)\n",
    "    \n",
    "    test_x = np.array(polynomial_df(test['sqft_living'], i))\n",
    "    test_y = np.array(test['price'])\n",
    "    RSS_Test[str(i)] = np.sum((model.predict(test_x) - test_y)**2)\n",
    "    \n",
    "print(\"Degree\", min(RSS, key = RSS.get), \"has the lowest RSS\")   \n",
    "print(RSS_Test[str(min(RSS, key=RSS.get))])      "
   ]
  },
  {
   "cell_type": "code",
   "execution_count": 148,
   "metadata": {
    "collapsed": false
   },
   "outputs": [],
   "source": [
    "X = poly_data.ix[:,:6]\n",
    "X = sm.add_constant(X)\n",
    "mod = sm.OLS(y,X).fit()"
   ]
  },
  {
   "cell_type": "code",
   "execution_count": 149,
   "metadata": {
    "collapsed": true
   },
   "outputs": [],
   "source": [
    "tst_X = polynomial_df(test['sqft_living'], 6)"
   ]
  },
  {
   "cell_type": "code",
   "execution_count": 150,
   "metadata": {
    "collapsed": true
   },
   "outputs": [],
   "source": [
    "tst_X = sm.add_constant(tst_X)"
   ]
  },
  {
   "cell_type": "code",
   "execution_count": 152,
   "metadata": {
    "collapsed": false
   },
   "outputs": [
    {
     "data": {
      "text/plain": [
       "348001179183242.25"
      ]
     },
     "execution_count": 152,
     "metadata": {},
     "output_type": "execute_result"
    }
   ],
   "source": [
    "np.sum((test.price - mod.predict(tst_X))**2)"
   ]
  },
  {
   "cell_type": "markdown",
   "metadata": {},
   "source": [
    "https://github.com/TimButters/Coursera-Regression/blob/master/Week3/polynomial_regression.py"
   ]
  },
  {
   "cell_type": "code",
   "execution_count": null,
   "metadata": {
    "collapsed": true
   },
   "outputs": [],
   "source": []
  }
 ],
 "metadata": {
  "kernelspec": {
   "display_name": "Python 2",
   "language": "python",
   "name": "python2"
  },
  "language_info": {
   "codemirror_mode": {
    "name": "ipython",
    "version": 2
   },
   "file_extension": ".py",
   "mimetype": "text/x-python",
   "name": "python",
   "nbconvert_exporter": "python",
   "pygments_lexer": "ipython2",
   "version": "2.7.11"
  }
 },
 "nbformat": 4,
 "nbformat_minor": 0
}
