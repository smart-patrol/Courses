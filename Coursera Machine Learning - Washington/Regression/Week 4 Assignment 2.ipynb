{
 "cells": [
  {
   "cell_type": "code",
   "execution_count": 3,
   "metadata": {
    "collapsed": true
   },
   "outputs": [],
   "source": [
    "import numpy as np\n",
    "import pandas as pd"
   ]
  },
  {
   "cell_type": "code",
   "execution_count": 4,
   "metadata": {
    "collapsed": true
   },
   "outputs": [],
   "source": [
    "dtype_dict = {'bathrooms': float, 'waterfront': int, 'sqft_above': int,\n",
    "                  'sqft_living15': float, 'grade': int, 'yr_renovated': int,\n",
    "                  'price': float, 'bedrooms': float, 'zipcode': str,\n",
    "                  'long': float, 'sqft_lot15': float, 'sqft_living': float,\n",
    "                  'floors': str, 'condition': int, 'lat': float, 'date': str,\n",
    "                  'sqft_basement': int, 'yr_built': int, 'id': str,\n",
    "                  'sqft_lot': int, 'view': int}"
   ]
  },
  {
   "cell_type": "code",
   "execution_count": 5,
   "metadata": {
    "collapsed": false
   },
   "outputs": [],
   "source": [
    "train = pd.read_csv(\"kc_house_train_data.csv\", dtype=dtype_dict)\n",
    "test = pd.read_csv('kc_house_test_data.csv', dtype=dtype_dict)"
   ]
  },
  {
   "cell_type": "code",
   "execution_count": 6,
   "metadata": {
    "collapsed": true
   },
   "outputs": [],
   "source": [
    "def get_numpy_data(dataset, features, output):\n",
    "    feature_matrix = np.ones((dataset.shape[0], len(features)+1))\n",
    "    for f, i in zip(features, range(len(features))):\n",
    "        feature_matrix[:, i+1] = dataset[f]\n",
    "    output_array = np.array(dataset[output])\n",
    "    return feature_matrix, output_array"
   ]
  },
  {
   "cell_type": "code",
   "execution_count": 7,
   "metadata": {
    "collapsed": true
   },
   "outputs": [],
   "source": [
    "def predict_outcome(features_matrix, weights) : \n",
    "    return (np.dot(features_matrix, weights))\n",
    "\n",
    "def feature_derivative(errors, features) : \n",
    "    return 2 * np.dot(features, errors)"
   ]
  },
  {
   "cell_type": "code",
   "execution_count": 9,
   "metadata": {
    "collapsed": true
   },
   "outputs": [],
   "source": [
    "def feature_derivative_ridge(errors, feature, weight, l2_penalty, feature_is_constant):\n",
    "    if(feature_is_constant):\n",
    "        deriv = 2*np.dot(errors,feature)\n",
    "    else:\n",
    "        deriv = 2*np.dot(errors,feature) + 2*l2_penalty*weight\n",
    "    return deriv"
   ]
  },
  {
   "cell_type": "code",
   "execution_count": 25,
   "metadata": {
    "collapsed": false
   },
   "outputs": [],
   "source": [
    "def ridge_regression_gradient_descent(feature_matrix, outcome, initial_weights, step_size, l2_penalty, max_iterations=100):\n",
    "    weights = np.array(initial_weights)\n",
    "    \n",
    "    for i in range(max_iterations):\n",
    "        preds = predict_outcome(feature_matrix, weights)\n",
    "        errors = preds - outcome\n",
    "        for i in xrange(len(weights)):\n",
    "            if(i == 0):\n",
    "                partial = feature_derivative_ridge(errors, feature_matrix[:,i], weights[i], l2_penalty, True)\n",
    "                weights[i] = weights[i] - step_size*partial\n",
    "            else:\n",
    "                partial = feature_derivative_ridge(errors, feature_matrix[:,i], weights[i], l2_penalty, False)\n",
    "            \n",
    "            weights[i] = weights[i] - step_size*partial\n",
    "            \n",
    "    return weights"
   ]
  },
  {
   "cell_type": "code",
   "execution_count": 13,
   "metadata": {
    "collapsed": false
   },
   "outputs": [],
   "source": [
    "# test feature deriviative\n",
    "(test_x, test_y) = get_numpy_data( pd.concat([test, train]), ['sqft_living'], 'price')"
   ]
  },
  {
   "cell_type": "code",
   "execution_count": 14,
   "metadata": {
    "collapsed": true
   },
   "outputs": [],
   "source": [
    "my_weights = np.array([1., 10.])\n",
    "test_preds = predict_outcome(test_x, my_weights)\n",
    "errors = test_preds - test_y"
   ]
  },
  {
   "cell_type": "code",
   "execution_count": 19,
   "metadata": {
    "collapsed": false
   },
   "outputs": [
    {
     "name": "stdout",
     "output_type": "stream",
     "text": [
      "-5.6554166816e+13\n",
      "-5.6554166816e+13\n",
      "\n",
      "-22446749330.0\n",
      "-22446749330.0\n"
     ]
    }
   ],
   "source": [
    "# these two values should be the same\n",
    "print feature_derivative_ridge(errors, test_x[:,1], my_weights[1], 1, False)\n",
    "print np.sum(errors*test_x[:,1])*2+20\n",
    "print ''\n",
    "# these should be the same as well\n",
    "print feature_derivative_ridge(errors, test_x[:,0], my_weights[0], 1, True)\n",
    "print np.sum(errors)*2."
   ]
  },
  {
   "cell_type": "markdown",
   "metadata": {},
   "source": [
    "# Gradient Descent Problems"
   ]
  },
  {
   "cell_type": "code",
   "execution_count": 20,
   "metadata": {
    "collapsed": true
   },
   "outputs": [],
   "source": [
    "# no penalty\n",
    "X, y = get_numpy_data(train, ['sqft_living'], 'price')\n",
    "\n",
    "initial_weights = np.array([0., 0.])\n",
    "step_size = 1e-12\n",
    "max_iterations=1000\n",
    "\n",
    "simple_weights_0_penalty = ridge_regression_gradient_descent(X,y,initial_weights, step_size, 0.0, max_iterations)\n",
    "simple_weights_0_penalty"
   ]
  },
  {
   "cell_type": "code",
   "execution_count": 28,
   "metadata": {
    "collapsed": false
   },
   "outputs": [
    {
     "data": {
      "text/plain": [
       "array([  19.5344015 ,  124.57032154])"
      ]
     },
     "execution_count": 28,
     "metadata": {},
     "output_type": "execute_result"
    }
   ],
   "source": [
    "simple_weights_hight_penalty = ridge_regression_gradient_descent(X,y,initial_weights, step_size, 1e11, max_iterations)\n",
    "simple_weights_hight_penalty"
   ]
  },
  {
   "cell_type": "code",
   "execution_count": 30,
   "metadata": {
    "collapsed": false
   },
   "outputs": [
    {
     "data": {
      "text/plain": [
       "[<matplotlib.lines.Line2D at 0xf1bef60>,\n",
       " <matplotlib.lines.Line2D at 0xf1cd080>,\n",
       " <matplotlib.lines.Line2D at 0xf1cd208>,\n",
       " <matplotlib.lines.Line2D at 0xf1cdc50>,\n",
       " <matplotlib.lines.Line2D at 0xf1cdd68>,\n",
       " <matplotlib.lines.Line2D at 0xf1db780>]"
      ]
     },
     "execution_count": 30,
     "metadata": {},
     "output_type": "execute_result"
    },
    {
     "data": {
      "image/png": "[encoded data removed]",
      "text/plain": [
       "<matplotlib.figure.Figure at 0xec96908>"
      ]
     },
     "metadata": {},
     "output_type": "display_data"
    }
   ],
   "source": [
    "import matplotlib.pyplot as plt\n",
    "%matplotlib inline\n",
    "\n",
    "plt.plot(X, y, 'k.', X, predict_outcome(X, simple_weights_0_penalty), 'b-',\n",
    "                     X, predict_outcome(X, simple_weights_hight_penalty), 'r-')"
   ]
  },
  {
   "cell_type": "code",
   "execution_count": 31,
   "metadata": {
    "collapsed": true
   },
   "outputs": [],
   "source": [
    "# computre the RSS for test\n",
    "def RSS(weights, feature_matrix, outcome):\n",
    "    rss_preds = predict_outcome(feature_matrix, weights)\n",
    "    RSS = np.sum((rss_preds - outcome) **2)\n",
    "    return RSS"
   ]
  },
  {
   "cell_type": "code",
   "execution_count": 32,
   "metadata": {
    "collapsed": false
   },
   "outputs": [
    {
     "name": "stdout",
     "output_type": "stream",
     "text": [
      "1.78427328614e+15\n",
      "2.75723625873e+14\n",
      "6.94629832929e+14\n"
     ]
    }
   ],
   "source": [
    "X, y = get_numpy_data(test, ['sqft_living'], 'price')\n",
    "\n",
    "print RSS(initial_weights,X,y)\n",
    "print RSS(simple_weights_0_penalty,X,y)\n",
    "print RSS(simple_weights_hight_penalty,X,y)"
   ]
  },
  {
   "cell_type": "markdown",
   "metadata": {},
   "source": [
    "## Running Multiple Regression With L2 Penalty"
   ]
  },
  {
   "cell_type": "code",
   "execution_count": 41,
   "metadata": {
    "collapsed": true
   },
   "outputs": [],
   "source": [
    "model_features = ['sqft_living', 'sqft_living15']  \n",
    "my_output = 'price'\n",
    "X ,y = get_numpy_data(train, model_features, my_output)"
   ]
  },
  {
   "cell_type": "code",
   "execution_count": 42,
   "metadata": {
    "collapsed": true
   },
   "outputs": [],
   "source": [
    "initial_weights = np.array([0.0, 0.0, 0.0])\n",
    "step_size = 1e-12\n",
    "max_iterations = 1000"
   ]
  },
  {
   "cell_type": "code",
   "execution_count": 43,
   "metadata": {
    "collapsed": true
   },
   "outputs": [],
   "source": [
    "multiple_weigths_0_penalty = ridge_regression_gradient_descent(X, y, initial_weights, step_size, 0.0, max_iterations)"
   ]
  },
  {
   "cell_type": "code",
   "execution_count": 44,
   "metadata": {
    "collapsed": false
   },
   "outputs": [
    {
     "data": {
      "text/plain": [
       "array([  -0.71486832,  243.05418921,   22.41495445])"
      ]
     },
     "execution_count": 44,
     "metadata": {},
     "output_type": "execute_result"
    }
   ],
   "source": [
    "multiple_weigths_0_penalty "
   ]
  },
  {
   "cell_type": "code",
   "execution_count": 45,
   "metadata": {
    "collapsed": false
   },
   "outputs": [
    {
     "data": {
      "text/plain": [
       "array([ 13.48582426,  91.48837525,  78.43568048])"
      ]
     },
     "execution_count": 45,
     "metadata": {},
     "output_type": "execute_result"
    }
   ],
   "source": [
    "multiple_weights_high_penalty =  ridge_regression_gradient_descent(X, y, initial_weights, step_size, 1e11, max_iterations)\n",
    "multiple_weights_high_penalty"
   ]
  },
  {
   "cell_type": "code",
   "execution_count": 46,
   "metadata": {
    "collapsed": false
   },
   "outputs": [
    {
     "data": {
      "text/plain": [
       "[<matplotlib.lines.Line2D at 0x106a1eb8>,\n",
       " <matplotlib.lines.Line2D at 0x106a1f98>,\n",
       " <matplotlib.lines.Line2D at 0x106b2160>,\n",
       " <matplotlib.lines.Line2D at 0x106b2240>,\n",
       " <matplotlib.lines.Line2D at 0x106bf128>,\n",
       " <matplotlib.lines.Line2D at 0x106bf240>,\n",
       " <matplotlib.lines.Line2D at 0x106bf358>,\n",
       " <matplotlib.lines.Line2D at 0x1081f1d0>,\n",
       " <matplotlib.lines.Line2D at 0x1081f2e8>]"
      ]
     },
     "execution_count": 46,
     "metadata": {},
     "output_type": "execute_result"
    },
    {
     "data": {
      "image/png": "[encoded data removed]",
      "text/plain": [
       "<matplotlib.figure.Figure at 0xf185588>"
      ]
     },
     "metadata": {},
     "output_type": "display_data"
    }
   ],
   "source": [
    "plt.plot(X, y, 'k.', X, predict_outcome(X, multiple_weigths_0_penalty), 'b-',\n",
    "                     X, predict_outcome(X, multiple_weights_high_penalty), 'r-')"
   ]
  },
  {
   "cell_type": "code",
   "execution_count": 47,
   "metadata": {
    "collapsed": false
   },
   "outputs": [],
   "source": [
    "X,y = get_numpy_data(test, model_features, my_output)"
   ]
  },
  {
   "cell_type": "code",
   "execution_count": 48,
   "metadata": {
    "collapsed": false
   },
   "outputs": [
    {
     "name": "stdout",
     "output_type": "stream",
     "text": [
      "1.78427328614e+15\n",
      "2.7406758712e+14\n",
      "5.00401052311e+14\n"
     ]
    }
   ],
   "source": [
    "print RSS(initial_weights, X, y)\n",
    "print RSS(multiple_weigths_0_penalty, X, y)\n",
    "print RSS(multiple_weights_high_penalty, X, y)"
   ]
  },
  {
   "cell_type": "code",
   "execution_count": 62,
   "metadata": {
    "collapsed": false
   },
   "outputs": [
    {
     "name": "stdout",
     "output_type": "stream",
     "text": [
      "pedicted: 387465.394625\n",
      "Actual: 310000.0\n",
      "Difference: -77465.3946252\n"
     ]
    }
   ],
   "source": [
    "first_pred = predict_outcome(X[0], multiple_weigths_0_penalty)\n",
    "print \"pedicted:\", first_pred\n",
    "print \"Actual:\" , y[0]\n",
    "print  \"Difference:\",y[0] - first_pred"
   ]
  },
  {
   "cell_type": "code",
   "execution_count": 61,
   "metadata": {
    "collapsed": false
   },
   "outputs": [
    {
     "name": "stdout",
     "output_type": "stream",
     "text": [
      "pedicted: 270457.37368\n",
      "Actual: 310000.0\n",
      "Difference: 39542.6263204\n"
     ]
    }
   ],
   "source": [
    "first_pred = predict_outcome(X[0], multiple_weights_high_penalty)\n",
    "print \"pedicted:\", first_pred\n",
    "print \"Actual:\" , y[0]\n",
    "print  \"Difference:\",y[0] - first_pred"
   ]
  },
  {
   "cell_type": "code",
   "execution_count": null,
   "metadata": {
    "collapsed": false
   },
   "outputs": [],
   "source": []
  },
  {
   "cell_type": "code",
   "execution_count": null,
   "metadata": {
    "collapsed": true
   },
   "outputs": [],
   "source": []
  }
 ],
 "metadata": {
  "kernelspec": {
   "display_name": "Python 2",
   "language": "python",
   "name": "python2"
  },
  "language_info": {
   "codemirror_mode": {
    "name": "ipython",
    "version": 2
   },
   "file_extension": ".py",
   "mimetype": "text/x-python",
   "name": "python",
   "nbconvert_exporter": "python",
   "pygments_lexer": "ipython2",
   "version": "2.7.11"
  }
 },
 "nbformat": 4,
 "nbformat_minor": 0
}
