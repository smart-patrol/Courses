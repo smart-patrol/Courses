{
 "cells": [
  {
   "cell_type": "code",
   "execution_count": 1,
   "metadata": {
    "collapsed": false
   },
   "outputs": [
    {
     "name": "stderr",
     "output_type": "stream",
     "text": [
      "C:\\Users\\Home\\Anaconda2\\lib\\site-packages\\matplotlib\\__init__.py:872: UserWarning: axes.color_cycle is deprecated and replaced with axes.prop_cycle; please use the latter.\n",
      "  warnings.warn(self.msg_depr % (key, alt_key))\n"
     ]
    }
   ],
   "source": [
    "import math\n",
    "import random\n",
    "import numpy as np\n",
    "import pandas as pd\n",
    "from matplotlib import pyplot as plt\n",
    "import seaborn as sns\n",
    "import statsmodels.api as sms\n",
    "import sklearn.linear_model as lm"
   ]
  },
  {
   "cell_type": "code",
   "execution_count": 2,
   "metadata": {
    "collapsed": true
   },
   "outputs": [],
   "source": [
    "%matplotlib inline"
   ]
  },
  {
   "cell_type": "code",
   "execution_count": 3,
   "metadata": {
    "collapsed": true
   },
   "outputs": [],
   "source": [
    "dtype_dict = {'bathrooms': float, 'waterfront': int, 'sqft_above': int,\n",
    "                  'sqft_living15': float, 'grade': int, 'yr_renovated': int,\n",
    "                  'price': float, 'bedrooms': float, 'zipcode': str,\n",
    "                  'long': float, 'sqft_lot15': float, 'sqft_living': float,\n",
    "                  'floors': str, 'condition': int, 'lat': float, 'date': str,\n",
    "                  'sqft_basement': int, 'yr_built': int, 'id': str,\n",
    "                  'sqft_lot': int, 'view': int}"
   ]
  },
  {
   "cell_type": "code",
   "execution_count": 4,
   "metadata": {
    "collapsed": true
   },
   "outputs": [],
   "source": [
    "def polynomial_features(df, deg):\n",
    "    df_copy  = df.copy()\n",
    "    for i in range(1,deg):\n",
    "        df_copy['X' + str(i+1)] = df_copy[ 'X' + str(i)] * df_copy['X1']\n",
    "    return df_copy"
   ]
  },
  {
   "cell_type": "code",
   "execution_count": 5,
   "metadata": {
    "collapsed": false
   },
   "outputs": [],
   "source": [
    "sales = pd.read_csv('kc_house_data.csv', dtype=dtype_dict)\n",
    "sales = sales.sort_values(['sqft_living','price'])"
   ]
  },
  {
   "cell_type": "code",
   "execution_count": 18,
   "metadata": {
    "collapsed": true
   },
   "outputs": [],
   "source": [
    "l2_small_penalty = 1.5e-5"
   ]
  },
  {
   "cell_type": "markdown",
   "metadata": {},
   "source": [
    "## Quick Question: What was the learned value for the coefficient of feature power_1?"
   ]
  },
  {
   "cell_type": "code",
   "execution_count": 19,
   "metadata": {
    "collapsed": false
   },
   "outputs": [],
   "source": [
    "X = pd.DataFrame()\n",
    "X['X1'] = sales.sqft_living\n",
    "X = polynomial_features(X,15)\n",
    "y = sales['price']"
   ]
  },
  {
   "cell_type": "code",
   "execution_count": 21,
   "metadata": {
    "collapsed": false
   },
   "outputs": [],
   "source": [
    "clf = lm.Ridge(alpha = l2_small_penalty, normalize=True)"
   ]
  },
  {
   "cell_type": "code",
   "execution_count": 22,
   "metadata": {
    "collapsed": true
   },
   "outputs": [],
   "source": [
    "model = clf.fit(X,y)"
   ]
  },
  {
   "cell_type": "code",
   "execution_count": 24,
   "metadata": {
    "collapsed": false
   },
   "outputs": [
    {
     "name": "stdout",
     "output_type": "stream",
     "text": [
      "124.873306481\n"
     ]
    }
   ],
   "source": [
    "print model.coef_[0]"
   ]
  },
  {
   "cell_type": "code",
   "execution_count": 25,
   "metadata": {
    "collapsed": false
   },
   "outputs": [],
   "source": [
    "# dtype_dict same as above\n",
    "set_1 = pd.read_csv('wk3_kc_house_set_1_data.csv', dtype=dtype_dict)\n",
    "set_2 = pd.read_csv('wk3_kc_house_set_2_data.csv', dtype=dtype_dict)\n",
    "set_3 = pd.read_csv('wk3_kc_house_set_3_data.csv', dtype=dtype_dict)\n",
    "set_4 = pd.read_csv('wk3_kc_house_set_4_data.csv', dtype=dtype_dict)"
   ]
  },
  {
   "cell_type": "code",
   "execution_count": 33,
   "metadata": {
    "collapsed": true
   },
   "outputs": [],
   "source": [
    "l2_small_penalty=1e-9"
   ]
  },
  {
   "cell_type": "code",
   "execution_count": 34,
   "metadata": {
    "collapsed": true
   },
   "outputs": [],
   "source": [
    "def fit_set_model(dat, deg, alpha):\n",
    "    X = pd.DataFrame()\n",
    "    X['X1'] = dat['sqft_living']\n",
    "    X = polynomial_features(X,15)\n",
    "    y = dat['price']\n",
    "    clf = lm.Ridge( normalize=True, alpha = alpha)\n",
    "    model = clf.fit(X,y)\n",
    "    return model, X, y"
   ]
  },
  {
   "cell_type": "code",
   "execution_count": 35,
   "metadata": {
    "collapsed": false
   },
   "outputs": [
    {
     "data": {
      "text/plain": [
       "[<matplotlib.lines.Line2D at 0x23976908>,\n",
       " <matplotlib.lines.Line2D at 0x23976f60>]"
      ]
     },
     "execution_count": 35,
     "metadata": {},
     "output_type": "execute_result"
    },
    {
     "data": {
      "image/png": "[encoded data removed]",
      "text/plain": [
       "<matplotlib.figure.Figure at 0x233c3a58>"
      ]
     },
     "metadata": {},
     "output_type": "display_data"
    }
   ],
   "source": [
    "set_1_mod, X, y = fit_set_model(set_1, 15, alpha = l2_small_penalty)\n",
    "\n",
    "plt.plot(X['X1'],y,'.',X['X1'],  set_1_mod.predict(X),'-')"
   ]
  },
  {
   "cell_type": "code",
   "execution_count": 36,
   "metadata": {
    "collapsed": false
   },
   "outputs": [
    {
     "data": {
      "text/plain": [
       "[<matplotlib.lines.Line2D at 0x23ce7860>,\n",
       " <matplotlib.lines.Line2D at 0x23ce7eb8>]"
      ]
     },
     "execution_count": 36,
     "metadata": {},
     "output_type": "execute_result"
    },
    {
     "data": {
      "image/png": "[encoded data removed]",
      "text/plain": [
       "<matplotlib.figure.Figure at 0x237ad0f0>"
      ]
     },
     "metadata": {},
     "output_type": "display_data"
    }
   ],
   "source": [
    "set_2_mod, X, y = fit_set_model(set_2, 15, alpha = l2_small_penalty)\n",
    "\n",
    "plt.plot(X['X1'],y,'.', X['X1'],  set_2_mod.predict(X),'-')"
   ]
  },
  {
   "cell_type": "code",
   "execution_count": 37,
   "metadata": {
    "collapsed": false
   },
   "outputs": [
    {
     "data": {
      "text/plain": [
       "[<matplotlib.lines.Line2D at 0x24073198>,\n",
       " <matplotlib.lines.Line2D at 0x240737f0>]"
      ]
     },
     "execution_count": 37,
     "metadata": {},
     "output_type": "execute_result"
    },
    {
     "data": {
      "image/png": "[encoded data removed]",
      "text/plain": [
       "<matplotlib.figure.Figure at 0x237a2eb8>"
      ]
     },
     "metadata": {},
     "output_type": "display_data"
    }
   ],
   "source": [
    "set_3_mod, X, y = fit_set_model(set_3, 15, alpha = l2_small_penalty)\n",
    "\n",
    "plt.plot(X['X1'],y,'.', X['X1'],  set_3_mod.predict(X),'-')"
   ]
  },
  {
   "cell_type": "code",
   "execution_count": 38,
   "metadata": {
    "collapsed": false
   },
   "outputs": [
    {
     "data": {
      "text/plain": [
       "[<matplotlib.lines.Line2D at 0x242dfa90>,\n",
       " <matplotlib.lines.Line2D at 0x242dfb70>]"
      ]
     },
     "execution_count": 38,
     "metadata": {},
     "output_type": "execute_result"
    },
    {
     "data": {
      "image/png": "[encoded data removed]",
      "text/plain": [
       "<matplotlib.figure.Figure at 0x22e23e10>"
      ]
     },
     "metadata": {},
     "output_type": "display_data"
    }
   ],
   "source": [
    "set_4_mod, X, y = fit_set_model(set_4, 15, alpha = l2_small_penalty)\n",
    "\n",
    "plt.plot(X['X1'],y,'.',X['X1'],  set_4_mod.predict(X),'-')"
   ]
  },
  {
   "cell_type": "markdown",
   "metadata": {},
   "source": [
    "### What Are the Smallest and Largets Values You Learned for the Coefficient of Feature Power_1?"
   ]
  },
  {
   "cell_type": "code",
   "execution_count": 53,
   "metadata": {
    "collapsed": false
   },
   "outputs": [
    {
     "name": "stdout",
     "output_type": "stream",
     "text": [
      "544.669382079\n",
      "859.362598359\n",
      "-755.395928814\n",
      "1119.44580422\n"
     ]
    }
   ],
   "source": [
    "print set_1_mod.coef_[0]\n",
    "print set_2_mod.coef_[0]\n",
    "print set_3_mod.coef_[0]\n",
    "print set_4_mod.coef_[0]"
   ]
  },
  {
   "cell_type": "code",
   "execution_count": 54,
   "metadata": {
    "collapsed": true
   },
   "outputs": [],
   "source": [
    "l2_large_penalty=1.23e2\n",
    "\n",
    "set_1_mod, X, y = fit_set_model(set_1, 15, alpha = l2_large_penalty)\n",
    "set_2_mod, X, y = fit_set_model(set_2, 15, alpha = l2_large_penalty)\n",
    "set_3_mod, X, y = fit_set_model(set_3, 15, alpha = l2_large_penalty)\n",
    "set_4_mod, X, y = fit_set_model(set_4, 15, alpha = l2_large_penalty)"
   ]
  },
  {
   "cell_type": "markdown",
   "metadata": {},
   "source": [
    "### For the models learned with regularization in each of these training sets, what are the smallest and largest values you learned for the coefficient of feature power_1? "
   ]
  },
  {
   "cell_type": "code",
   "execution_count": 56,
   "metadata": {
    "collapsed": false
   },
   "outputs": [
    {
     "name": "stdout",
     "output_type": "stream",
     "text": [
      "2.32806802958\n",
      "2.09756902778\n",
      "2.28906258119\n",
      "2.08596194092\n"
     ]
    }
   ],
   "source": [
    "print set_1_mod.coef_[0]\n",
    "print set_2_mod.coef_[0]\n",
    "print set_3_mod.coef_[0]\n",
    "print set_4_mod.coef_[0]"
   ]
  },
  {
   "cell_type": "code",
   "execution_count": 57,
   "metadata": {
    "collapsed": false
   },
   "outputs": [],
   "source": [
    "train_valid_shuffled = pd.read_csv('wk3_kc_house_train_valid_shuffled.csv', dtype=dtype_dict)\n",
    "test = pd.read_csv('wk3_kc_house_test_data.csv', dtype=dtype_dict)"
   ]
  },
  {
   "cell_type": "code",
   "execution_count": 58,
   "metadata": {
    "collapsed": false
   },
   "outputs": [
    {
     "name": "stdout",
     "output_type": "stream",
     "text": [
      "0 (0, 1938)\n",
      "1 (1939, 3878)\n",
      "2 (3879, 5817)\n",
      "3 (5818, 7757)\n",
      "4 (7758, 9697)\n",
      "5 (9698, 11636)\n",
      "6 (11637, 13576)\n",
      "7 (13577, 15515)\n",
      "8 (15516, 17455)\n",
      "9 (17456, 19395)\n"
     ]
    }
   ],
   "source": [
    "n = len(train_valid_shuffled)\n",
    "k = 10 # 10-fold cross-validation\n",
    "\n",
    "for i in xrange(k):\n",
    "    start = (n*i)/k\n",
    "    end = (n*(i+1))/k-1\n",
    "    print i, (start, end)"
   ]
  },
  {
   "cell_type": "code",
   "execution_count": 67,
   "metadata": {
    "collapsed": false
   },
   "outputs": [],
   "source": [
    "validation4 = train_valid_shuffled[5818:7758]"
   ]
  },
  {
   "cell_type": "code",
   "execution_count": 68,
   "metadata": {
    "collapsed": false
   },
   "outputs": [
    {
     "data": {
      "text/plain": [
       "536234"
      ]
     },
     "execution_count": 68,
     "metadata": {},
     "output_type": "execute_result"
    }
   ],
   "source": [
    "int(round(validation4['price'].mean(), 0 ))"
   ]
  },
  {
   "cell_type": "code",
   "execution_count": 76,
   "metadata": {
    "collapsed": false
   },
   "outputs": [],
   "source": [
    "poly_data = pd.DataFrame()\n",
    "poly_data['X1'] = train_valid_shuffled.sqft_living\n",
    "poly_data = polynomial_features(poly_data, 15)"
   ]
  },
  {
   "cell_type": "code",
   "execution_count": 79,
   "metadata": {
    "collapsed": false
   },
   "outputs": [],
   "source": [
    "poly_data['price'] = train_valid_shuffled.price"
   ]
  },
  {
   "cell_type": "code",
   "execution_count": 113,
   "metadata": {
    "collapsed": true
   },
   "outputs": [],
   "source": [
    "X = pd.DataFrame()\n",
    "X['X1'] = train_valid_shuffled['sqft_living']\n",
    "X = polynomial_features(X,15)\n",
    "y = train_valid_shuffled ['price']"
   ]
  },
  {
   "cell_type": "code",
   "execution_count": 83,
   "metadata": {
    "collapsed": false
   },
   "outputs": [],
   "source": [
    "def k_fold_cross_validation(k, l2_penalty, data, output_name):\n",
    "    \n",
    "    RSS_valid = range(k)\n",
    "    n = len(data)\n",
    "    \n",
    "    for i in range(k):\n",
    "        start = (n*i)/k\n",
    "        end = (n*(i+1))/k-1\n",
    "        validation = data[start:end+1]\n",
    "        train_set = data[0:start].append(data[end+1:n])\n",
    "    \n",
    "        clf = lm.Ridge(alpha=l2_penalty, normalize=True)\n",
    "        model = clf.fit(data,data[output_name])\n",
    "        preds = model.predict(validation)\n",
    "        RSS_valid[i]= sum((preds - validation[output_name])**2)\n",
    "    \n",
    "    return sum(RSS_valid) / len(RSS_valid)"
   ]
  },
  {
   "cell_type": "markdown",
   "metadata": {},
   "source": [
    "### QUIZ QUESTIONS: What is the best value for the L2 penalty according to 10-fold validation?"
   ]
  },
  {
   "cell_type": "code",
   "execution_count": 124,
   "metadata": {
    "collapsed": false
   },
   "outputs": [],
   "source": [
    "l2_vals = np.logspace(3,9,num=13)\n",
    "RSS = []\n",
    "\n",
    "for pen in xrange(13) :\n",
    "    out = k_fold_cross_validation(10, l2_vals[pen], poly_data, 'price') \n",
    "    RSS.append(out)"
   ]
  },
  {
   "cell_type": "code",
   "execution_count": 125,
   "metadata": {
    "collapsed": false
   },
   "outputs": [
    {
     "name": "stdout",
     "output_type": "stream",
     "text": [
      "2.64523657821e+14\n"
     ]
    }
   ],
   "source": [
    "min_penalty  = np.min(RSS)\n",
    "print min_penalty"
   ]
  },
  {
   "cell_type": "code",
   "execution_count": 129,
   "metadata": {
    "collapsed": false
   },
   "outputs": [],
   "source": [
    "clf = lm.Ridge(alpha=min_penalty, normalize=True)\n",
    "best_model = clf.fit(X, y)"
   ]
  },
  {
   "cell_type": "code",
   "execution_count": 130,
   "metadata": {
    "collapsed": false
   },
   "outputs": [],
   "source": [
    "poly_test = pd.DataFrame()\n",
    "poly_test['X1'] = test['sqft_living']\n",
    "poly_test = polynomial_features(poly_test, 15)\n",
    "preds_test = best_model.predict(poly_test)"
   ]
  },
  {
   "cell_type": "markdown",
   "metadata": {},
   "source": [
    "### QUIZ QUESTION: Using the best L2 penalty found above, train a model using all training data. What is the RSS on the TEST data of the model you learn with this L2 penalty?"
   ]
  },
  {
   "cell_type": "code",
   "execution_count": 131,
   "metadata": {
    "collapsed": false
   },
   "outputs": [
    {
     "data": {
      "text/plain": [
       "284682324759335.69"
      ]
     },
     "execution_count": 131,
     "metadata": {},
     "output_type": "execute_result"
    }
   ],
   "source": [
    "sum((test.price - preds_test)**2)"
   ]
  },
  {
   "cell_type": "code",
   "execution_count": 132,
   "metadata": {
    "collapsed": true
   },
   "outputs": [],
   "source": [
    "clf = lm.RidgeCV(alphas=np.logspace(3,9,num=13),normalize=True, cv=k)\n",
    "model = clf.fit(X,y)"
   ]
  },
  {
   "cell_type": "code",
   "execution_count": 134,
   "metadata": {
    "collapsed": false
   },
   "outputs": [
    {
     "data": {
      "text/plain": [
       "299699562543738.19"
      ]
     },
     "execution_count": 134,
     "metadata": {},
     "output_type": "execute_result"
    }
   ],
   "source": [
    "sum((test.price - model.predict(poly_test))**2)"
   ]
  },
  {
   "cell_type": "code",
   "execution_count": null,
   "metadata": {
    "collapsed": true
   },
   "outputs": [],
   "source": []
  },
  {
   "cell_type": "code",
   "execution_count": null,
   "metadata": {
    "collapsed": true
   },
   "outputs": [],
   "source": []
  }
 ],
 "metadata": {
  "kernelspec": {
   "display_name": "Python 2",
   "language": "python",
   "name": "python2"
  },
  "language_info": {
   "codemirror_mode": {
    "name": "ipython",
    "version": 2
   },
   "file_extension": ".py",
   "mimetype": "text/x-python",
   "name": "python",
   "nbconvert_exporter": "python",
   "pygments_lexer": "ipython2",
   "version": "2.7.11"
  }
 },
 "nbformat": 4,
 "nbformat_minor": 0
}
