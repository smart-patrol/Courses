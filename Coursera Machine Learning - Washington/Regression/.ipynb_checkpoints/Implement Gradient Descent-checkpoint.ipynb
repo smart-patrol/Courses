{
 "cells": [
  {
   "cell_type": "code",
   "execution_count": 3,
   "metadata": {
    "collapsed": true
   },
   "outputs": [],
   "source": [
    "import numpy as np\n",
    "import pandas as pd\n",
    "import matplotlib.pyplot as plt\n",
    "import statsmodels.api as sm\n",
    "import seaborn as sns"
   ]
  },
  {
   "cell_type": "code",
   "execution_count": 48,
   "metadata": {
    "collapsed": true
   },
   "outputs": [],
   "source": [
    "dtype_dict = {'bathrooms': float, 'waterfront': int, 'sqft_above': int,\n",
    "                  'sqft_living15': float, 'grade': int, 'yr_renovated': int,\n",
    "                  'price': float, 'bedrooms': float, 'zipcode': str,\n",
    "                  'long': float, 'sqft_lot15': float, 'sqft_living': float,\n",
    "                  'floors': str, 'condition': int, 'lat': float, 'date': str,\n",
    "                  'sqft_basement': int, 'yr_built': int, 'id': str,\n",
    "                  'sqft_lot': int, 'view': int}"
   ]
  },
  {
   "cell_type": "code",
   "execution_count": 49,
   "metadata": {
    "collapsed": false
   },
   "outputs": [],
   "source": [
    "train = pd.read_csv(\"kc_house_train_data.csv\", dtype=dtype_dict)\n",
    "test = pd.read_csv('kc_house_test_data.csv', dtype=dtype_dict)"
   ]
  },
  {
   "cell_type": "markdown",
   "metadata": {},
   "source": [
    "### Setup Helper Functions"
   ]
  },
  {
   "cell_type": "code",
   "execution_count": 51,
   "metadata": {
    "collapsed": true
   },
   "outputs": [],
   "source": [
    "def get_numpy_data(dataset, features, output):\n",
    "    feature_matrix = np.ones((dataset.shape[0], len(features)+1))\n",
    "    for f, i in zip(features, range(len(features))):\n",
    "        feature_matrix[:, i+1] = dataset[f]\n",
    "    output_array = np.array(dataset[output])\n",
    "    return feature_matrix, output_array"
   ]
  },
  {
   "cell_type": "code",
   "execution_count": 22,
   "metadata": {
    "collapsed": false
   },
   "outputs": [],
   "source": [
    "#### predict outcome dot prod between matrix and weights\n",
    "def predict_outcome(features_matrix, weights) :\n",
    "    return (np.dot(features_matrix, weights))"
   ]
  },
  {
   "cell_type": "code",
   "execution_count": 25,
   "metadata": {
    "collapsed": true
   },
   "outputs": [],
   "source": [
    "# dot product errors and orginal independent variables squared\n",
    "def feature_derivative(errors, features):\n",
    "    return 2 * np.dot(features, errors)"
   ]
  },
  {
   "cell_type": "code",
   "execution_count": 63,
   "metadata": {
    "collapsed": true
   },
   "outputs": [],
   "source": [
    "# create regregsssion gradients descent to find minima\n",
    "def gradient_descent(feature_matrix, outcome, intital_weights, step_size, tolerance):\n",
    "    converged = False\n",
    "    weights = np.array(initial_weights)\n",
    "    while not converged:\n",
    "        predictions = predict_outcome(feature_matrix, weights)\n",
    "        errors = predictions - outcome\n",
    "        gradient_sum_squares = 0\n",
    "        for i in range(len(weights)):\n",
    "            derivative = feature_derivative(errors, feature_matrix[:, i])\n",
    "            gradient_sum_squares += derivative**2\n",
    "            weights[i] = weights[i] - step_size*derivative\n",
    "        gradient_magnitude = np.sqrt(gradient_sum_squares)\n",
    "        if gradient_magnitude < tolerance:\n",
    "            converged = True\n",
    "    return weights"
   ]
  },
  {
   "cell_type": "markdown",
   "metadata": {},
   "source": [
    "### Run for Simple Model"
   ]
  },
  {
   "cell_type": "code",
   "execution_count": 44,
   "metadata": {
    "collapsed": false
   },
   "outputs": [],
   "source": [
    "simple_feature = ['sqft_living']\n",
    "outcome = 'price'\n",
    "simple_feature_matrix, outcome = get_numpy_data(train, simple_feature, outcome)\n",
    "intital_weights = np.array([-47000.0, 1.0])\n",
    "step_size = 7e-12\n",
    "tolerance = 2.5e7"
   ]
  },
  {
   "cell_type": "code",
   "execution_count": 45,
   "metadata": {
    "collapsed": false
   },
   "outputs": [],
   "source": [
    "simple_weights = gradient_descent(simple_feature_matrix, outcome, intital_weights, step_size, tolerance)\n",
    "\n",
    "test_simple_feature_matrix, test_outcome = get_numpy_data(test, ['sqft_living'], 'price')\n",
    "\n",
    "test_preds = predict_outcome(test_simple_feature_matrix, simple_weights)"
   ]
  },
  {
   "cell_type": "code",
   "execution_count": 93,
   "metadata": {
    "collapsed": false
   },
   "outputs": [
    {
     "name": "stdout",
     "output_type": "stream",
     "text": [
      "Simple Weight: 281.912119175\n"
     ]
    }
   ],
   "source": [
    "print \"Simple Weight:\" ,simple_weights[1]"
   ]
  },
  {
   "cell_type": "code",
   "execution_count": 92,
   "metadata": {
    "collapsed": false
   },
   "outputs": [
    {
     "name": "stdout",
     "output_type": "stream",
     "text": [
      "Predicted Ouctome: 356134.443255\n",
      "Actual Outcome: 221900.0\n"
     ]
    }
   ],
   "source": [
    "print \"Predicted Ouctome:\", test_preds[0]\n",
    "print \"Actual Outcome:\", outcome[0]"
   ]
  },
  {
   "cell_type": "markdown",
   "metadata": {},
   "source": [
    "### Run More Complex Model"
   ]
  },
  {
   "cell_type": "code",
   "execution_count": 70,
   "metadata": {
    "collapsed": true
   },
   "outputs": [],
   "source": [
    "mod_features = ['sqft_living', 'sqft_living15']\n",
    "outcome = 'price'\n",
    "initial_weights = [-100000.0, 1.0, 1.0]\n",
    "step_size = 4e-12\n",
    "tolerance = 1e9"
   ]
  },
  {
   "cell_type": "code",
   "execution_count": 71,
   "metadata": {
    "collapsed": true
   },
   "outputs": [],
   "source": [
    "feature_matrix, outcome = get_numpy_data(train, mod_features, outcome)\n",
    "\n",
    "comp_weights = gradient_descent(feature_matrix, outcome, intital_weights, step_size, tolerance)\n",
    "\n",
    "test_feature_matrix, test_outcome = get_numpy_data(test, ['sqft_living', 'sqft_living15'], 'price')\n",
    "\n",
    "preds = predict_outcome(test_feature_matrix, comp_weights)"
   ]
  },
  {
   "cell_type": "code",
   "execution_count": 87,
   "metadata": {
    "collapsed": false
   },
   "outputs": [],
   "source": [
    "#comp_weights"
   ]
  },
  {
   "cell_type": "code",
   "execution_count": 91,
   "metadata": {
    "collapsed": false
   },
   "outputs": [
    {
     "name": "stdout",
     "output_type": "stream",
     "text": [
      "1st Predicted Outcome : 366651.411629\n",
      "Real Outcome: 221900.0\n"
     ]
    }
   ],
   "source": [
    "print \"1st Predicted Outcome :\" , preds[0]\n",
    "print \"Real Outcome:\", outcome[0]"
   ]
  },
  {
   "cell_type": "code",
   "execution_count": 90,
   "metadata": {
    "collapsed": false
   },
   "outputs": [
    {
     "name": "stdout",
     "output_type": "stream",
     "text": [
      "Compare RSS\n",
      "Mod 1 RSS: 2.75400044902e+14\n",
      "Mod 2 RSS : 2.7026344363e+14\n"
     ]
    }
   ],
   "source": [
    "print \"Compare RSS\"\n",
    "print \"Mod 1 RSS:\", np.sum((test_preds - test_outcome)**2)\n",
    "print \"Mod 2 RSS :\", np.sum((preds - test_outcome)**2)"
   ]
  },
  {
   "cell_type": "code",
   "execution_count": 82,
   "metadata": {
    "collapsed": false
   },
   "outputs": [
    {
     "name": "stdout",
     "output_type": "stream",
     "text": [
      "('blah', '\\n')\n"
     ]
    }
   ],
   "source": []
  },
  {
   "cell_type": "code",
   "execution_count": 74,
   "metadata": {
    "collapsed": false
   },
   "outputs": [],
   "source": [
    "def gradient_descent(X,y, weights, step_size, tolerance):\n",
    "    converged = False\n",
    "    while not converged:\n",
    "        preds = np.dot(X, weights)\n",
    "        err = preds - y\n",
    "        gradient_sum_squares = 0\n",
    "        # while not converged update weigh\n",
    "        for i in range(len(weights)):\n",
    "            deriv = np.dot(X.T[i] , weights[i])\n",
    "            weights = weights[i] - (step_size * deriv)\n",
    "            gradient_sum_squares += deriv**2\n",
    "        gradient_magnitude = np.sqrt(gradient_sum_squares)\n",
    "        if gradient_magnitude < tolerance :\n",
    "                converged = True\n",
    "    return weights"
   ]
  },
  {
   "cell_type": "code",
   "execution_count": null,
   "metadata": {
    "collapsed": true
   },
   "outputs": [],
   "source": [
    "def gradient_descent(mat, depvar, weights, step_size, tolerance):\n",
    "    converged = False\n",
    "    weights = np.array(weights)\n",
    "    while not converged:\n",
    "        preds = predict_outcome(mat, weights)\n",
    "        err = preds - depvar\n",
    "        \n",
    "        gradient_sum_squares = 0\n",
    "        # while not converged update weight\n",
    "        for i in range(len(weights)):\n",
    "            deriv = invar_derivative(weights[:,i])\n",
    "            gradient_sum_squares.append(derive)\n",
    "        gradient_magnitude = sqrt(gradient_sum_squares)\n",
    "        if gradient_magnitude < tolerance :\n",
    "            converged = True\n",
    "    return(weights)                "
   ]
  },
  {
   "cell_type": "code",
   "execution_count": null,
   "metadata": {
    "collapsed": false
   },
   "outputs": [],
   "source": []
  },
  {
   "cell_type": "code",
   "execution_count": null,
   "metadata": {
    "collapsed": true
   },
   "outputs": [],
   "source": []
  },
  {
   "cell_type": "code",
   "execution_count": null,
   "metadata": {
    "collapsed": false
   },
   "outputs": [],
   "source": []
  },
  {
   "cell_type": "markdown",
   "metadata": {},
   "source": [
    "# http://pythonfiddle.com/gradient-descent/"
   ]
  },
  {
   "cell_type": "code",
   "execution_count": 12,
   "metadata": {
    "collapsed": true
   },
   "outputs": [],
   "source": [
    "def compute_cost(features, values, theta):\n",
    "    \"\"\"\n",
    "    Compute the cost function given a set of features / values, \n",
    "    and the values for our thetas.\n",
    "    \"\"\"\n",
    "    \n",
    "    m = len(values)\n",
    "    sse = np.square(np.dot(features, theta) - values).sum()\n",
    "    cost = sse / (2*m)\n",
    "\n",
    "    return cost\n",
    "\n",
    "def gradient_descent(features, values, theta, alpha, num_iters):\n",
    "    \"\"\"\n",
    "    Perform gradient descent given a data set with an arbitrary number of features.\n",
    "    \"\"\"\n",
    "    \n",
    "    m = len(values)\n",
    "    cost_history = []\n",
    "\n",
    "    for i in range( num_iters):\n",
    "        predicted_values = np.dot(features, theta)\n",
    "        theta = theta + alpha/m * np.dot((values - predicted_values), features)\n",
    "        cost_history.append(compute_cost(features, values, theta))\n",
    "\n",
    "    return theta, pd.Series(cost_history)"
   ]
  },
  {
   "cell_type": "code",
   "execution_count": 52,
   "metadata": {
    "collapsed": true
   },
   "outputs": [],
   "source": [
    "## run on instial data set\n",
    "invar = ['sqft_living']\n",
    "(X, y) = get_numpy_array(train,invar)\n",
    "theta = np.zeros(len(X.T))\n",
    "alpha =  7e-12\n",
    "num_iters = 10000"
   ]
  },
  {
   "cell_type": "code",
   "execution_count": 53,
   "metadata": {
    "collapsed": false
   },
   "outputs": [],
   "source": [
    "theta_out, cost_hist  = gradient_descent(X,y, theta,alpha, num_iters )"
   ]
  },
  {
   "cell_type": "code",
   "execution_count": 54,
   "metadata": {
    "collapsed": false
   },
   "outputs": [
    {
     "data": {
      "text/plain": [
       "array([  3.15856075e-02,   7.99433422e+01])"
      ]
     },
     "execution_count": 54,
     "metadata": {},
     "output_type": "execute_result"
    }
   ],
   "source": [
    "theta_out"
   ]
  },
  {
   "cell_type": "code",
   "execution_count": 55,
   "metadata": {
    "collapsed": false
   },
   "outputs": [
    {
     "data": {
      "text/plain": [
       "114319.01096045914"
      ]
     },
     "execution_count": 55,
     "metadata": {},
     "output_type": "execute_result"
    }
   ],
   "source": [
    "# run on test data\n",
    "(t_X, t_y) = get_numpy_array(test,invar)\n",
    "coefs = t_X *theta_out\n",
    "t_preds =coefs[:,0] + coefs[:,1]\n",
    "t_preds[0]"
   ]
  },
  {
   "cell_type": "code",
   "execution_count": 56,
   "metadata": {
    "collapsed": false
   },
   "outputs": [
    {
     "data": {
      "text/plain": [
       "1007424041956315.5"
      ]
     },
     "execution_count": 56,
     "metadata": {},
     "output_type": "execute_result"
    }
   ],
   "source": [
    "np.sum((t_y - t_preds)**2)"
   ]
  },
  {
   "cell_type": "code",
   "execution_count": 69,
   "metadata": {
    "collapsed": false
   },
   "outputs": [],
   "source": [
    "# fit another model\n",
    "invar = ['sqft_living','sqft_living15']\n",
    "(X, y) = get_numpy_array(train,invar)\n",
    "theta = np.zeros(len(X.T))\n",
    "alpha = 4e-12\n",
    "num_iters = 100000"
   ]
  },
  {
   "cell_type": "code",
   "execution_count": 70,
   "metadata": {
    "collapsed": false
   },
   "outputs": [],
   "source": [
    "theta_out, cost_hist  = gradient_descent(X,y, theta,alpha, num_iters )"
   ]
  },
  {
   "cell_type": "code",
   "execution_count": 71,
   "metadata": {
    "collapsed": false
   },
   "outputs": [
    {
     "data": {
      "text/plain": [
       "array([  5.05851290e-02,   1.46030346e+02,   1.21159510e+02])"
      ]
     },
     "execution_count": 71,
     "metadata": {},
     "output_type": "execute_result"
    }
   ],
   "source": [
    "theta_out"
   ]
  },
  {
   "cell_type": "code",
   "execution_count": 72,
   "metadata": {
    "collapsed": false
   },
   "outputs": [
    {
     "data": {
      "text/plain": [
       "208823.4459724426"
      ]
     },
     "execution_count": 72,
     "metadata": {},
     "output_type": "execute_result"
    }
   ],
   "source": [
    "# run on test data\n",
    "(t_X, t_y) = get_numpy_array(test,invar)\n",
    "coefs = t_X *theta_out\n",
    "t_preds =coefs[:,0] + coefs[:,1]\n",
    "t_preds[0]"
   ]
  },
  {
   "cell_type": "code",
   "execution_count": 73,
   "metadata": {
    "collapsed": false
   },
   "outputs": [
    {
     "data": {
      "text/plain": [
       "575131210799517.25"
      ]
     },
     "execution_count": 73,
     "metadata": {},
     "output_type": "execute_result"
    }
   ],
   "source": [
    "np.sum((t_y - t_preds)**2)"
   ]
  },
  {
   "cell_type": "code",
   "execution_count": 74,
   "metadata": {
    "collapsed": false
   },
   "outputs": [
    {
     "data": {
      "text/plain": [
       "310000.0"
      ]
     },
     "execution_count": 74,
     "metadata": {},
     "output_type": "execute_result"
    }
   ],
   "source": [
    "test.price[0]"
   ]
  },
  {
   "cell_type": "code",
   "execution_count": 75,
   "metadata": {
    "collapsed": false
   },
   "outputs": [
    {
     "data": {
      "text/plain": [
       "True"
      ]
     },
     "execution_count": 75,
     "metadata": {},
     "output_type": "execute_result"
    }
   ],
   "source": [
    "1007424041956315.5 >575131210799517.25"
   ]
  },
  {
   "cell_type": "code",
   "execution_count": 76,
   "metadata": {
    "collapsed": false
   },
   "outputs": [
    {
     "data": {
      "text/plain": [
       "True"
      ]
     },
     "execution_count": 76,
     "metadata": {},
     "output_type": "execute_result"
    }
   ],
   "source": [
    "5 > 2"
   ]
  },
  {
   "cell_type": "code",
   "execution_count": null,
   "metadata": {
    "collapsed": true
   },
   "outputs": [],
   "source": []
  }
 ],
 "metadata": {
  "kernelspec": {
   "display_name": "Python 2",
   "language": "python",
   "name": "python2"
  },
  "language_info": {
   "codemirror_mode": {
    "name": "ipython",
    "version": 2
   },
   "file_extension": ".py",
   "mimetype": "text/x-python",
   "name": "python",
   "nbconvert_exporter": "python",
   "pygments_lexer": "ipython2",
   "version": "2.7.10"
  }
 },
 "nbformat": 4,
 "nbformat_minor": 0
}
