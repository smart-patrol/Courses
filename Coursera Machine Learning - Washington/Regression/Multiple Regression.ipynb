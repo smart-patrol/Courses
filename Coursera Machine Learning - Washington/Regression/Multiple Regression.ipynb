{
 "cells": [
  {
   "cell_type": "code",
   "execution_count": 1,
   "metadata": {
    "collapsed": true
   },
   "outputs": [],
   "source": [
    "import numpy as np\n",
    "import pandas as pd\n",
    "import matplotlib.pyplot as plt\n",
    "import statsmodels.api as sm\n",
    "import seaborn as sns"
   ]
  },
  {
   "cell_type": "code",
   "execution_count": 10,
   "metadata": {
    "collapsed": true
   },
   "outputs": [],
   "source": [
    "dtype_dict = {'bathrooms':float, 'waterfront':int, 'sqft_above':int, 'sqft_living15':float, 'grade':int, 'yr_renovated':int, 'price':float, 'bedrooms':float, 'zipcode':str, 'long':float, 'sqft_lot15':float, 'sqft_living':float, 'floors':str, 'condition':int, 'lat':float, 'date':str, 'sqft_basement':int, 'yr_built':int, 'id':str, 'sqft_lot':int, 'view':int}"
   ]
  },
  {
   "cell_type": "code",
   "execution_count": 11,
   "metadata": {
    "collapsed": true
   },
   "outputs": [],
   "source": [
    "train = pd.read_csv(\"kc_house_train_data.csv\", )\n",
    "test = pd.read_csv('kc_house_test_data.csv')"
   ]
  },
  {
   "cell_type": "code",
   "execution_count": 12,
   "metadata": {
    "collapsed": false
   },
   "outputs": [
    {
     "data": {
      "text/plain": [
       "id                 int64\n",
       "date              object\n",
       "price            float64\n",
       "bedrooms           int64\n",
       "bathrooms        float64\n",
       "sqft_living        int64\n",
       "sqft_lot           int64\n",
       "floors           float64\n",
       "waterfront         int64\n",
       "view               int64\n",
       "condition          int64\n",
       "grade              int64\n",
       "sqft_above         int64\n",
       "sqft_basement      int64\n",
       "yr_built           int64\n",
       "yr_renovated       int64\n",
       "zipcode            int64\n",
       "lat              float64\n",
       "long             float64\n",
       "sqft_living15      int64\n",
       "sqft_lot15         int64\n",
       "dtype: object"
      ]
     },
     "execution_count": 12,
     "metadata": {},
     "output_type": "execute_result"
    }
   ],
   "source": [
    "test.dtypes"
   ]
  },
  {
   "cell_type": "code",
   "execution_count": 4,
   "metadata": {
    "collapsed": false
   },
   "outputs": [],
   "source": [
    "def fix_dtypes(d) :\n",
    "    d['bedrooms'] = d['bedrooms'].astype('float64')\n",
    "    d['sqft_living15'] = d['sqft_living15'].astype('float64')\n",
    "    d['sqft_lot15'] = d['sqft_lot15'].astype('float64')\n",
    "    d['zipcode']  = d['zipcode'].astype('str')\n",
    "    return d"
   ]
  },
  {
   "cell_type": "code",
   "execution_count": 5,
   "metadata": {
    "collapsed": true
   },
   "outputs": [],
   "source": [
    "train = fix_dtypes(train)\n",
    "test  = fix_dtypes(test)"
   ]
  },
  {
   "cell_type": "code",
   "execution_count": 6,
   "metadata": {
    "collapsed": false
   },
   "outputs": [],
   "source": [
    "# create interaction and devired variables\n",
    "def create_vars(d):\n",
    "    d['bedrooms_squared'] = d.bedrooms **2\n",
    "    d['bed_bath_rooms'] = d.bedrooms * d.bathrooms\n",
    "    d['log_sqft_living'] = np.log(d.sqft_living)\n",
    "    d['lat_plus_long'] = d['lat'] + d['long']\n",
    "    return d"
   ]
  },
  {
   "cell_type": "code",
   "execution_count": 7,
   "metadata": {
    "collapsed": false
   },
   "outputs": [],
   "source": [
    "train = create_vars(train)\n",
    "test = create_vars(test)"
   ]
  },
  {
   "cell_type": "code",
   "execution_count": 8,
   "metadata": {
    "collapsed": false
   },
   "outputs": [
    {
     "data": {
      "text/plain": [
       "bedrooms_squared    12.446678\n",
       "bed_bath_rooms       7.503902\n",
       "log_sqft_living      7.550275\n",
       "lat_plus_long      -74.653334\n",
       "dtype: float64"
      ]
     },
     "execution_count": 8,
     "metadata": {},
     "output_type": "execute_result"
    }
   ],
   "source": [
    "# quiz question 4\n",
    "test[['bedrooms_squared','bed_bath_rooms','log_sqft_living', 'lat_plus_long']].mean()"
   ]
  },
  {
   "cell_type": "code",
   "execution_count": 22,
   "metadata": {
    "collapsed": false
   },
   "outputs": [],
   "source": [
    "# create helper function to build modles\n",
    "def make_mod(df,depvar, invar):\n",
    "    X = df[invar]\n",
    "    y = df[depvar]\n",
    "    X = sm.add_constant(X)\n",
    "    mod = sm.OLS(y,X).fit()\n",
    "    return mod"
   ]
  },
  {
   "cell_type": "code",
   "execution_count": 42,
   "metadata": {
    "collapsed": true
   },
   "outputs": [],
   "source": [
    "mod1_vars = ['sqft_living','bedrooms', 'bathrooms', 'lat', 'long']\n",
    "mod2_vars = [ 'sqft_living', 'bedrooms', 'bathrooms', 'lat','long','bed_bath_rooms']\n",
    "mod3_vars =  [ 'sqft_living', 'bedrooms', 'bathrooms', 'lat','long','bed_bath_rooms', 'bedrooms_squared', 'log_sqft_living', 'lat_plus_long']"
   ]
  },
  {
   "cell_type": "code",
   "execution_count": 43,
   "metadata": {
    "collapsed": false
   },
   "outputs": [],
   "source": [
    "# building models\n",
    "mod1 = (make_mod(train\n",
    "                , 'price'\n",
    "                , mod1_vars))"
   ]
  },
  {
   "cell_type": "code",
   "execution_count": 44,
   "metadata": {
    "collapsed": false
   },
   "outputs": [],
   "source": [
    "mod2 = (make_mod(train\n",
    "                , 'price'\n",
    "                ,mod2_vars ))"
   ]
  },
  {
   "cell_type": "code",
   "execution_count": 50,
   "metadata": {
    "collapsed": false
   },
   "outputs": [],
   "source": [
    "mod3 = (make_mod(train\n",
    "                , 'price'\n",
    "                , mod3_vars))"
   ]
  },
  {
   "cell_type": "code",
   "execution_count": 29,
   "metadata": {
    "collapsed": false
   },
   "outputs": [
    {
     "data": {
      "text/html": [
       "<table class=\"simpletable\">\n",
       "<caption>OLS Regression Results</caption>\n",
       "<tr>\n",
       "  <th>Dep. Variable:</th>          <td>price</td>      <th>  R-squared:         </th>  <td>   0.593</td>  \n",
       "</tr>\n",
       "<tr>\n",
       "  <th>Model:</th>                   <td>OLS</td>       <th>  Adj. R-squared:    </th>  <td>   0.592</td>  \n",
       "</tr>\n",
       "<tr>\n",
       "  <th>Method:</th>             <td>Least Squares</td>  <th>  F-statistic:       </th>  <td>   5056.</td>  \n",
       "</tr>\n",
       "<tr>\n",
       "  <th>Date:</th>             <td>Thu, 10 Dec 2015</td> <th>  Prob (F-statistic):</th>   <td>  0.00</td>   \n",
       "</tr>\n",
       "<tr>\n",
       "  <th>Time:</th>                 <td>20:43:36</td>     <th>  Log-Likelihood:    </th> <td>-2.3973e+05</td>\n",
       "</tr>\n",
       "<tr>\n",
       "  <th>No. Observations:</th>      <td> 17384</td>      <th>  AIC:               </th>  <td>4.795e+05</td> \n",
       "</tr>\n",
       "<tr>\n",
       "  <th>Df Residuals:</th>          <td> 17378</td>      <th>  BIC:               </th>  <td>4.795e+05</td> \n",
       "</tr>\n",
       "<tr>\n",
       "  <th>Df Model:</th>              <td>     5</td>      <th>                     </th>      <td> </td>     \n",
       "</tr>\n",
       "</table>\n",
       "<table class=\"simpletable\">\n",
       "<tr>\n",
       "       <td></td>          <th>coef</th>     <th>std err</th>      <th>t</th>      <th>P>|t|</th> <th>[95.0% Conf. Int.]</th> \n",
       "</tr>\n",
       "<tr>\n",
       "  <th>const</th>       <td>-6.908e+07</td> <td> 1.65e+06</td> <td>  -41.940</td> <td> 0.000</td> <td>-7.23e+07 -6.58e+07</td>\n",
       "</tr>\n",
       "<tr>\n",
       "  <th>sqft_living</th> <td>  312.2586</td> <td>    3.183</td> <td>   98.097</td> <td> 0.000</td> <td>  306.019   318.498</td>\n",
       "</tr>\n",
       "<tr>\n",
       "  <th>bedrooms</th>    <td>-5.959e+04</td> <td> 2482.861</td> <td>  -23.999</td> <td> 0.000</td> <td>-6.45e+04 -5.47e+04</td>\n",
       "</tr>\n",
       "<tr>\n",
       "  <th>bathrooms</th>   <td> 1.571e+04</td> <td> 3587.158</td> <td>    4.379</td> <td> 0.000</td> <td> 8675.552  2.27e+04</td>\n",
       "</tr>\n",
       "<tr>\n",
       "  <th>lat</th>         <td> 6.586e+05</td> <td> 1.31e+04</td> <td>   50.286</td> <td> 0.000</td> <td> 6.33e+05  6.84e+05</td>\n",
       "</tr>\n",
       "<tr>\n",
       "  <th>long</th>        <td>-3.094e+05</td> <td> 1.33e+04</td> <td>  -23.331</td> <td> 0.000</td> <td>-3.35e+05 -2.83e+05</td>\n",
       "</tr>\n",
       "</table>\n",
       "<table class=\"simpletable\">\n",
       "<tr>\n",
       "  <th>Omnibus:</th>       <td>12962.917</td> <th>  Durbin-Watson:     </th>  <td>   2.008</td> \n",
       "</tr>\n",
       "<tr>\n",
       "  <th>Prob(Omnibus):</th>  <td> 0.000</td>   <th>  Jarque-Bera (JB):  </th> <td>615844.364</td>\n",
       "</tr>\n",
       "<tr>\n",
       "  <th>Skew:</th>           <td> 3.114</td>   <th>  Prob(JB):          </th>  <td>    0.00</td> \n",
       "</tr>\n",
       "<tr>\n",
       "  <th>Kurtosis:</th>       <td>31.486</td>   <th>  Cond. No.          </th>  <td>2.10e+06</td> \n",
       "</tr>\n",
       "</table>"
      ],
      "text/plain": [
       "<class 'statsmodels.iolib.summary.Summary'>\n",
       "\"\"\"\n",
       "                            OLS Regression Results                            \n",
       "==============================================================================\n",
       "Dep. Variable:                  price   R-squared:                       0.593\n",
       "Model:                            OLS   Adj. R-squared:                  0.592\n",
       "Method:                 Least Squares   F-statistic:                     5056.\n",
       "Date:                Thu, 10 Dec 2015   Prob (F-statistic):               0.00\n",
       "Time:                        20:43:36   Log-Likelihood:            -2.3973e+05\n",
       "No. Observations:               17384   AIC:                         4.795e+05\n",
       "Df Residuals:                   17378   BIC:                         4.795e+05\n",
       "Df Model:                           5                                         \n",
       "===============================================================================\n",
       "                  coef    std err          t      P>|t|      [95.0% Conf. Int.]\n",
       "-------------------------------------------------------------------------------\n",
       "const       -6.908e+07   1.65e+06    -41.940      0.000     -7.23e+07 -6.58e+07\n",
       "sqft_living   312.2586      3.183     98.097      0.000       306.019   318.498\n",
       "bedrooms    -5.959e+04   2482.861    -23.999      0.000     -6.45e+04 -5.47e+04\n",
       "bathrooms    1.571e+04   3587.158      4.379      0.000      8675.552  2.27e+04\n",
       "lat          6.586e+05   1.31e+04     50.286      0.000      6.33e+05  6.84e+05\n",
       "long        -3.094e+05   1.33e+04    -23.331      0.000     -3.35e+05 -2.83e+05\n",
       "==============================================================================\n",
       "Omnibus:                    12962.917   Durbin-Watson:                   2.008\n",
       "Prob(Omnibus):                  0.000   Jarque-Bera (JB):           615844.364\n",
       "Skew:                           3.114   Prob(JB):                         0.00\n",
       "Kurtosis:                      31.486   Cond. No.                     2.10e+06\n",
       "==============================================================================\n",
       "\n",
       "Warnings:\n",
       "[1] The condition number is large, 2.1e+06. This might indicate that there are\n",
       "strong multicollinearity or other numerical problems.\n",
       "\"\"\""
      ]
     },
     "execution_count": 29,
     "metadata": {},
     "output_type": "execute_result"
    }
   ],
   "source": [
    "mod1.summary()"
   ]
  },
  {
   "cell_type": "code",
   "execution_count": 30,
   "metadata": {
    "collapsed": false
   },
   "outputs": [
    {
     "data": {
      "text/html": [
       "<table class=\"simpletable\">\n",
       "<caption>OLS Regression Results</caption>\n",
       "<tr>\n",
       "  <th>Dep. Variable:</th>          <td>price</td>      <th>  R-squared:         </th>  <td>   0.597</td>  \n",
       "</tr>\n",
       "<tr>\n",
       "  <th>Model:</th>                   <td>OLS</td>       <th>  Adj. R-squared:    </th>  <td>   0.596</td>  \n",
       "</tr>\n",
       "<tr>\n",
       "  <th>Method:</th>             <td>Least Squares</td>  <th>  F-statistic:       </th>  <td>   4283.</td>  \n",
       "</tr>\n",
       "<tr>\n",
       "  <th>Date:</th>             <td>Thu, 10 Dec 2015</td> <th>  Prob (F-statistic):</th>   <td>  0.00</td>   \n",
       "</tr>\n",
       "<tr>\n",
       "  <th>Time:</th>                 <td>20:43:53</td>     <th>  Log-Likelihood:    </th> <td>-2.3965e+05</td>\n",
       "</tr>\n",
       "<tr>\n",
       "  <th>No. Observations:</th>      <td> 17384</td>      <th>  AIC:               </th>  <td>4.793e+05</td> \n",
       "</tr>\n",
       "<tr>\n",
       "  <th>Df Residuals:</th>          <td> 17377</td>      <th>  BIC:               </th>  <td>4.794e+05</td> \n",
       "</tr>\n",
       "<tr>\n",
       "  <th>Df Model:</th>              <td>     6</td>      <th>                     </th>      <td> </td>     \n",
       "</tr>\n",
       "</table>\n",
       "<table class=\"simpletable\">\n",
       "<tr>\n",
       "         <td></td>           <th>coef</th>     <th>std err</th>      <th>t</th>      <th>P>|t|</th> <th>[95.0% Conf. Int.]</th> \n",
       "</tr>\n",
       "<tr>\n",
       "  <th>const</th>          <td>-6.687e+07</td> <td> 1.65e+06</td> <td>  -40.584</td> <td> 0.000</td> <td>-7.01e+07 -6.36e+07</td>\n",
       "</tr>\n",
       "<tr>\n",
       "  <th>sqft_living</th>    <td>  306.6101</td> <td>    3.197</td> <td>   95.909</td> <td> 0.000</td> <td>  300.344   312.876</td>\n",
       "</tr>\n",
       "<tr>\n",
       "  <th>bedrooms</th>       <td>-1.134e+05</td> <td> 4797.612</td> <td>  -23.646</td> <td> 0.000</td> <td>-1.23e+05 -1.04e+05</td>\n",
       "</tr>\n",
       "<tr>\n",
       "  <th>bathrooms</th>      <td>-7.146e+04</td> <td> 7552.563</td> <td>   -9.462</td> <td> 0.000</td> <td>-8.63e+04 -5.67e+04</td>\n",
       "</tr>\n",
       "<tr>\n",
       "  <th>lat</th>            <td> 6.548e+05</td> <td>  1.3e+04</td> <td>   50.230</td> <td> 0.000</td> <td> 6.29e+05   6.8e+05</td>\n",
       "</tr>\n",
       "<tr>\n",
       "  <th>long</th>           <td>-2.943e+05</td> <td> 1.32e+04</td> <td>  -22.218</td> <td> 0.000</td> <td> -3.2e+05 -2.68e+05</td>\n",
       "</tr>\n",
       "<tr>\n",
       "  <th>bed_bath_rooms</th> <td> 2.558e+04</td> <td> 1953.134</td> <td>   13.097</td> <td> 0.000</td> <td> 2.18e+04  2.94e+04</td>\n",
       "</tr>\n",
       "</table>\n",
       "<table class=\"simpletable\">\n",
       "<tr>\n",
       "  <th>Omnibus:</th>       <td>12343.124</td> <th>  Durbin-Watson:     </th>  <td>   2.010</td> \n",
       "</tr>\n",
       "<tr>\n",
       "  <th>Prob(Omnibus):</th>  <td> 0.000</td>   <th>  Jarque-Bera (JB):  </th> <td>533516.100</td>\n",
       "</tr>\n",
       "<tr>\n",
       "  <th>Skew:</th>           <td> 2.916</td>   <th>  Prob(JB):          </th>  <td>    0.00</td> \n",
       "</tr>\n",
       "<tr>\n",
       "  <th>Kurtosis:</th>       <td>29.506</td>   <th>  Cond. No.          </th>  <td>2.11e+06</td> \n",
       "</tr>\n",
       "</table>"
      ],
      "text/plain": [
       "<class 'statsmodels.iolib.summary.Summary'>\n",
       "\"\"\"\n",
       "                            OLS Regression Results                            \n",
       "==============================================================================\n",
       "Dep. Variable:                  price   R-squared:                       0.597\n",
       "Model:                            OLS   Adj. R-squared:                  0.596\n",
       "Method:                 Least Squares   F-statistic:                     4283.\n",
       "Date:                Thu, 10 Dec 2015   Prob (F-statistic):               0.00\n",
       "Time:                        20:43:53   Log-Likelihood:            -2.3965e+05\n",
       "No. Observations:               17384   AIC:                         4.793e+05\n",
       "Df Residuals:                   17377   BIC:                         4.794e+05\n",
       "Df Model:                           6                                         \n",
       "==================================================================================\n",
       "                     coef    std err          t      P>|t|      [95.0% Conf. Int.]\n",
       "----------------------------------------------------------------------------------\n",
       "const          -6.687e+07   1.65e+06    -40.584      0.000     -7.01e+07 -6.36e+07\n",
       "sqft_living      306.6101      3.197     95.909      0.000       300.344   312.876\n",
       "bedrooms       -1.134e+05   4797.612    -23.646      0.000     -1.23e+05 -1.04e+05\n",
       "bathrooms      -7.146e+04   7552.563     -9.462      0.000     -8.63e+04 -5.67e+04\n",
       "lat             6.548e+05    1.3e+04     50.230      0.000      6.29e+05   6.8e+05\n",
       "long           -2.943e+05   1.32e+04    -22.218      0.000      -3.2e+05 -2.68e+05\n",
       "bed_bath_rooms  2.558e+04   1953.134     13.097      0.000      2.18e+04  2.94e+04\n",
       "==============================================================================\n",
       "Omnibus:                    12343.124   Durbin-Watson:                   2.010\n",
       "Prob(Omnibus):                  0.000   Jarque-Bera (JB):           533516.100\n",
       "Skew:                           2.916   Prob(JB):                         0.00\n",
       "Kurtosis:                      29.506   Cond. No.                     2.11e+06\n",
       "==============================================================================\n",
       "\n",
       "Warnings:\n",
       "[1] The condition number is large, 2.11e+06. This might indicate that there are\n",
       "strong multicollinearity or other numerical problems.\n",
       "\"\"\""
      ]
     },
     "execution_count": 30,
     "metadata": {},
     "output_type": "execute_result"
    }
   ],
   "source": [
    "mod2.summary()"
   ]
  },
  {
   "cell_type": "code",
   "execution_count": 40,
   "metadata": {
    "collapsed": false
   },
   "outputs": [
    {
     "name": "stdout",
     "output_type": "stream",
     "text": [
      "mod1 RSS: 9.6787996305e+14\n",
      "mod2 RSS: 9.58419635074e+14\n",
      "mod3 RSS: 9.0343645505e+14\n"
     ]
    }
   ],
   "source": [
    "print \"mod1 RSS:\",np.sum(mod1.resid **2)\n",
    "print \"mod2 RSS:\",np.sum(mod2.resid **2)\n",
    "print \"mod3 RSS:\", np.sum(mod3.resid**2)"
   ]
  },
  {
   "cell_type": "code",
   "execution_count": 46,
   "metadata": {
    "collapsed": false
   },
   "outputs": [],
   "source": [
    "# compute for RSS of testing data\n",
    "def compute_rss(invar, model) :\n",
    "    X = test[invar]\n",
    "    X = sm.add_constant(X)\n",
    "    RSS = np.sum((test.price - model.predict(X))**2)\n",
    "    return RSS"
   ]
  },
  {
   "cell_type": "code",
   "execution_count": 52,
   "metadata": {
    "collapsed": false
   },
   "outputs": [
    {
     "name": "stdout",
     "output_type": "stream",
     "text": [
      "Mod 1 RSS : 2.25500469795e+14\n",
      "Mod 2 RSS : 2.23377462976e+14\n",
      "Mod 3 RSS : 2.59236319207e+14\n"
     ]
    }
   ],
   "source": [
    "print \"Mod 1 RSS :\", compute_rss(mod1_vars, mod1)\n",
    "print \"Mod 2 RSS :\", compute_rss(mod2_vars, mod2)\n",
    "print \"Mod 3 RSS :\", compute_rss(mod3_vars, mod3)"
   ]
  },
  {
   "cell_type": "code",
   "execution_count": null,
   "metadata": {
    "collapsed": true
   },
   "outputs": [],
   "source": []
  }
 ],
 "metadata": {
  "kernelspec": {
   "display_name": "Python 2",
   "language": "python",
   "name": "python2"
  },
  "language_info": {
   "codemirror_mode": {
    "name": "ipython",
    "version": 2
   },
   "file_extension": ".py",
   "mimetype": "text/x-python",
   "name": "python",
   "nbconvert_exporter": "python",
   "pygments_lexer": "ipython2",
   "version": "2.7.10"
  }
 },
 "nbformat": 4,
 "nbformat_minor": 0
}
