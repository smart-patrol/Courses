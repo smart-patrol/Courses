{
 "cells": [
  {
   "cell_type": "code",
   "execution_count": 1,
   "metadata": {
    "collapsed": false
   },
   "outputs": [],
   "source": [
    "import numpy as np\n",
    "import pandas as pd\n",
    "import matplotlib.pyplot as plt\n",
    "import statsmodels.api as sm"
   ]
  },
  {
   "cell_type": "code",
   "execution_count": 2,
   "metadata": {
    "collapsed": false
   },
   "outputs": [],
   "source": [
    "#ls"
   ]
  },
  {
   "cell_type": "code",
   "execution_count": 3,
   "metadata": {
    "collapsed": false
   },
   "outputs": [],
   "source": [
    "train = pd.read_csv(\"kc_house_train_data.csv\")\n",
    "test = pd.read_csv('kc_house_test_data.csv')"
   ]
  },
  {
   "cell_type": "code",
   "execution_count": 109,
   "metadata": {
    "collapsed": false
   },
   "outputs": [
    {
     "name": "stdout",
     "output_type": "stream",
     "text": [
      "                            OLS Regression Results                            \n",
      "==============================================================================\n",
      "Dep. Variable:                  price   R-squared:                       0.494\n",
      "Model:                            OLS   Adj. R-squared:                  0.494\n",
      "Method:                 Least Squares   F-statistic:                 1.698e+04\n",
      "Date:                Fri, 04 Dec 2015   Prob (F-statistic):               0.00\n",
      "Time:                        23:36:12   Log-Likelihood:            -2.4161e+05\n",
      "No. Observations:               17384   AIC:                         4.832e+05\n",
      "Df Residuals:                   17382   BIC:                         4.832e+05\n",
      "Df Model:                           1                                         \n",
      "===============================================================================\n",
      "                  coef    std err          t      P>|t|      [95.0% Conf. Int.]\n",
      "-------------------------------------------------------------------------------\n",
      "const       -4.712e+04   4923.344     -9.570      0.000     -5.68e+04 -3.75e+04\n",
      "sqft_living   281.9588      2.164    130.292      0.000       277.717   286.201\n",
      "==============================================================================\n",
      "Omnibus:                    11826.248   Durbin-Watson:                   1.996\n",
      "Prob(Omnibus):                  0.000   Jarque-Bera (JB):           416980.854\n",
      "Skew:                           2.799   Prob(JB):                         0.00\n",
      "Kurtosis:                      26.331   Cond. No.                     5.62e+03\n",
      "==============================================================================\n",
      "\n",
      "Warnings:\n",
      "[1] The condition number is large, 5.62e+03. This might indicate that there are\n",
      "strong multicollinearity or other numerical problems.\n"
     ]
    }
   ],
   "source": [
    "X = train.sqft_living\n",
    "y = train.price\n",
    "X = sm.add_constant(X)\n",
    "sqft_mod = sm.OLS(y,X).fit()\n",
    "print sqft_mod.summary()"
   ]
  },
  {
   "cell_type": "code",
   "execution_count": 112,
   "metadata": {
    "collapsed": false
   },
   "outputs": [
    {
     "data": {
      "text/plain": [
       "700074.84594751394"
      ]
     },
     "execution_count": 112,
     "metadata": {},
     "output_type": "execute_result"
    }
   ],
   "source": [
    "# Answer 1\n",
    "sqft_mod.params[1] * 2650 + sqft_mod.params[0]"
   ]
  },
  {
   "cell_type": "code",
   "execution_count": 50,
   "metadata": {
    "collapsed": true
   },
   "outputs": [],
   "source": [
    "def sim_ols(y,X):\n",
    "    X = sm.add_constant(X)\n",
    "    results = sm.OLS(y,X).fit()\n",
    "    incercept = results.params[0]\n",
    "    slope = results.params[1]\n",
    "    return(results,incercept, slope)"
   ]
  },
  {
   "cell_type": "code",
   "execution_count": 51,
   "metadata": {
    "collapsed": false
   },
   "outputs": [],
   "source": [
    "sqft_mod, sqft_intercept, sqft_slope = sim_ols(train.sqft_living, train.price)"
   ]
  },
  {
   "cell_type": "code",
   "execution_count": 38,
   "metadata": {
    "collapsed": false
   },
   "outputs": [],
   "source": [
    "def inverse_regression_predictions(output, intercept, slope):\n",
    "    return( (output - slope ) / intercept)"
   ]
  },
  {
   "cell_type": "code",
   "execution_count": 115,
   "metadata": {
    "collapsed": false
   },
   "outputs": [
    {
     "data": {
      "text/plain": [
       "3004.3962451522684"
      ]
     },
     "execution_count": 115,
     "metadata": {},
     "output_type": "execute_result"
    }
   ],
   "source": [
    "# Right answer for 3\n",
    "(800000 - sqft_mod.params[0] ) / sqft_mod.params[1] "
   ]
  },
  {
   "cell_type": "code",
   "execution_count": 122,
   "metadata": {
    "collapsed": false
   },
   "outputs": [
    {
     "data": {
      "text/plain": [
       "(285595.35169090156, 1180)"
      ]
     },
     "execution_count": 122,
     "metadata": {},
     "output_type": "execute_result"
    }
   ],
   "source": [
    "# testing \n",
    "print pred[0] , train.sqft_living[0]\n",
    "print (pred[0] - sqft_mod.params[0]) / sqft_mod.params[1]"
   ]
  },
  {
   "cell_type": "markdown",
   "metadata": {},
   "source": [
    "### Use Bedrooms in place of sqft"
   ]
  },
  {
   "cell_type": "code",
   "execution_count": 64,
   "metadata": {
    "collapsed": false
   },
   "outputs": [
    {
     "name": "stdout",
     "output_type": "stream",
     "text": [
      "\n"
     ]
    }
   ],
   "source": [
    "bed_mod, bed_intercept, bed_slope = sim_ols(train.bedrooms, train.price)"
   ]
  },
  {
   "cell_type": "code",
   "execution_count": 69,
   "metadata": {
    "collapsed": false
   },
   "outputs": [
    {
     "name": "stdout",
     "output_type": "stream",
     "text": [
      "Bedrooms RSS : 2296563048.64\n",
      "SQFT RSS: 2291760778.22\n"
     ]
    }
   ],
   "source": [
    "print \"Bedrooms RSS :\",get_rss(test.bedrooms, test.price, bed_mod)\n",
    "print \"SQFT RSS:\", get_rss(test.sqft_living, test.price,sqft_mod)"
   ]
  },
  {
   "cell_type": "code",
   "execution_count": null,
   "metadata": {
    "collapsed": true
   },
   "outputs": [],
   "source": []
  },
  {
   "cell_type": "code",
   "execution_count": 134,
   "metadata": {
    "collapsed": false
   },
   "outputs": [],
   "source": [
    "def get_rss(X, y) :\n",
    "    X = sm.add_constant(X)\n",
    "    mod = sm.OLS(y,X).fit()\n",
    "    pred = mod.predict(X)\n",
    "    diff = (y - pred)**2\n",
    "    return np.sum(diff)"
   ]
  },
  {
   "cell_type": "code",
   "execution_count": 137,
   "metadata": {
    "collapsed": false
   },
   "outputs": [
    {
     "data": {
      "text/plain": [
       "1201918354177283.0"
      ]
     },
     "execution_count": 137,
     "metadata": {},
     "output_type": "execute_result"
    }
   ],
   "source": [
    "# right answer for 2 RSS\n",
    "get_rss(train.sqft_living, train.price)"
   ]
  },
  {
   "cell_type": "code",
   "execution_count": 131,
   "metadata": {
    "collapsed": true
   },
   "outputs": [],
   "source": [
    "# 4 answer is model 1\n",
    "\n",
    "X = train.sqft_living\n",
    "y = train.price\n",
    "X = sm.add_constant(X)\n",
    "mod = sm.OLS(y,X).fit()\n",
    "pred = mod.predict(X)"
   ]
  },
  {
   "cell_type": "code",
   "execution_count": 141,
   "metadata": {
    "collapsed": false
   },
   "outputs": [
    {
     "data": {
      "text/plain": [
       "275402933617812.5"
      ]
     },
     "execution_count": 141,
     "metadata": {},
     "output_type": "execute_result"
    }
   ],
   "source": [
    "X = test.sqft_living\n",
    "X = sm.add_constant(X)\n",
    "np.sum((test.price - mod.predict(X))**2)"
   ]
  },
  {
   "cell_type": "code",
   "execution_count": 142,
   "metadata": {
    "collapsed": true
   },
   "outputs": [],
   "source": [
    "X = train.bedrooms\n",
    "y = train.price\n",
    "X = sm.add_constant(X)\n",
    "mod = sm.OLS(y,X).fit()\n",
    "pred = mod.predict(X)"
   ]
  },
  {
   "cell_type": "code",
   "execution_count": 143,
   "metadata": {
    "collapsed": false
   },
   "outputs": [
    {
     "data": {
      "text/plain": [
       "493364585960305.5"
      ]
     },
     "execution_count": 143,
     "metadata": {},
     "output_type": "execute_result"
    }
   ],
   "source": [
    "X = test.bedrooms\n",
    "X = sm.add_constant(X)\n",
    "np.sum((test.price - mod.predict(X))**2)"
   ]
  },
  {
   "cell_type": "code",
   "execution_count": null,
   "metadata": {
    "collapsed": true
   },
   "outputs": [],
   "source": []
  }
 ],
 "metadata": {
  "kernelspec": {
   "display_name": "Python 2",
   "language": "python",
   "name": "python2"
  },
  "language_info": {
   "codemirror_mode": {
    "name": "ipython",
    "version": 2
   },
   "file_extension": ".py",
   "mimetype": "text/x-python",
   "name": "python",
   "nbconvert_exporter": "python",
   "pygments_lexer": "ipython2",
   "version": "2.7.10"
  }
 },
 "nbformat": 4,
 "nbformat_minor": 0
}
