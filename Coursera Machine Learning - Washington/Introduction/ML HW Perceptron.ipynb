{
 "metadata": {
  "name": "",
  "signature": "sha256:24e1baf571fcc9de12e5fb4b69391e1694b563d503e3158f5d1df7ecf9061ff6"
 },
 "nbformat": 3,
 "nbformat_minor": 0,
 "worksheets": [
  {
   "cells": [
    {
     "cell_type": "code",
     "collapsed": false,
     "input": [
      "%pylab inline\n",
      "\n",
      "import random as rnd\n",
      "import numpy as np\n",
      "import matplotlib.pyplot as plt\n",
      "\n",
      "\n",
      "\n",
      "def generateLine():\n",
      "    points = np.random.uniform(-1, 1, (2, 2))\n",
      "    (x1,y1),(x2,y2) = points\n",
      "    k = (y2 - y1) / (x2 - x1)\n",
      "    m = y1 - k * x1\n",
      "    return k,m\n",
      "\n",
      "def generateData(line, N=10):\n",
      "    k,m = line\n",
      "    x = np.ones((N, 3))\n",
      "    x[:,1:] = np.random.uniform(-1, 1, (N, 2))\n",
      "    y = x[:,2] - (x[:,1] * k + m)\n",
      "    return x,np.sign(y)\n",
      "\n",
      "def showData(x,y, line, label):\n",
      "    pos = y > 0\n",
      "    neg = y < 0\n",
      "    plt.plot(x[:,1][pos], x[:,2][pos], 'gD')\n",
      "    plt.plot(x[:,1][neg], x[:,2][neg], 'rs')\n",
      "    k,m = line\n",
      "    v = np.array([-1.0, 1.0])\n",
      "    plt.plot(v, v * k + m, label=label)\n",
      "\n",
      "def perceptron(x, y):\n",
      "    w = np.zeros(x.shape[1], dtype=float)\n",
      "    t = 0\n",
      "    while True:\n",
      "        missed = []\n",
      "        for i, r in enumerate(x):\n",
      "            result = np.sign(np.dot(r, w))\n",
      "            u = r * (y[i] - result)\n",
      "            if result != y[i]: missed.append(u)\n",
      "        if len(missed) == 0: return w,t\n",
      "        w = w + rnd.choice(missed)\n",
      "        t += 1\n",
      "        \n",
      "def disagreement(x,y,w):\n",
      "    result = np.dot(x, w)\n",
      "    d = np.ones(y.size)[y != np.sign(result)]\n",
      "    return np.sum(d) / y.size\n",
      "        \n",
      "def runProblem(N, n=1000):\n",
      "    c = 0.0\n",
      "    d = 0.0\n",
      "    for i in xrange(n):\n",
      "        line = generateLine()\n",
      "        x,y = generateData(line, N)\n",
      "        w,t = perceptron(x,y)\n",
      "        testX, testY = generateData(line, n)\n",
      "        d += disagreement(testX, testY, w)\n",
      "        c += t\n",
      "    return {'iterations': c / n, 'disagreement': d / n}\n",
      "       \n",
      "    "
     ],
     "language": "python",
     "metadata": {},
     "outputs": [
      {
       "output_type": "stream",
       "stream": "stdout",
       "text": [
        "Populating the interactive namespace from numpy and matplotlib\n"
       ]
      }
     ],
     "prompt_number": 3
    },
    {
     "cell_type": "code",
     "collapsed": false,
     "input": [
      "line = generateLine()\n",
      "x,y = generateData(line, 10)\n",
      "w,_ = perceptron(x,y)\n",
      "\n",
      "plt.title(\"PLA training result\")\n",
      "showData(x,y, line, \"original\")\n",
      "showData(x, y, (- w[1] / w[2], - w[0] / w[2]), \"PLA\")\n",
      "plt.legend(loc='best')"
     ],
     "language": "python",
     "metadata": {},
     "outputs": [
      {
       "metadata": {},
       "output_type": "pyout",
       "prompt_number": 4,
       "text": [
        "<matplotlib.legend.Legend at 0x9b45ba8>"
       ]
      },
      {
       "metadata": {},
       "output_type": "display_data",
       "png": "[encoded data removed]",
       "text": [
        "<matplotlib.figure.Figure at 0x9c79dd8>"
       ]
      }
     ],
     "prompt_number": 4
    },
    {
     "cell_type": "code",
     "collapsed": false,
     "input": [
      "runProblem(10)\n",
      "\n"
     ],
     "language": "python",
     "metadata": {},
     "outputs": [
      {
       "metadata": {},
       "output_type": "pyout",
       "prompt_number": 7,
       "text": [
        "{'disagreement': 0.109004, 'iterations': 10.138}"
       ]
      }
     ],
     "prompt_number": 7
    },
    {
     "cell_type": "code",
     "collapsed": false,
     "input": [
      "runProblem(100)"
     ],
     "language": "python",
     "metadata": {},
     "outputs": []
    },
    {
     "cell_type": "code",
     "collapsed": false,
     "input": [],
     "language": "python",
     "metadata": {},
     "outputs": []
    }
   ],
   "metadata": {}
  }
 ]
}