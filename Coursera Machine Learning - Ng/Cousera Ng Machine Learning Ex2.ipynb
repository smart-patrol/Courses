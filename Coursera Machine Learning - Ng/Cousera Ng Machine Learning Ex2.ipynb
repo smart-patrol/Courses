{
 "cells": [
  {
   "cell_type": "code",
   "execution_count": 20,
   "metadata": {
    "collapsed": false
   },
   "outputs": [],
   "source": [
    "import sys\n",
    "import scipy.optimize, scipy.special\n",
    "import numpy as np\n",
    "from mpl_toolkits.mplot3d import Axes3D\n",
    "import matplotlib.pyplot as pl\n",
    "from matplotlib import cm\n",
    "import seaborn as sns"
   ]
  },
  {
   "cell_type": "code",
   "execution_count": 23,
   "metadata": {
    "collapsed": true
   },
   "outputs": [],
   "source": [
    "%matplotlib inline"
   ]
  },
  {
   "cell_type": "code",
   "execution_count": 14,
   "metadata": {
    "collapsed": false
   },
   "outputs": [],
   "source": [
    "# load in data \n",
    "data = np.genfromtxt(\"C:\\\\Users\\\\Home\\\\Documents\\\\R_code\\\\Coursera\\\\Machine Learning\\\\machine-learning-ex2\\\\ex2\\\\ex2data1.txt\"\n",
    "                    ,delimiter = ',')\n",
    "\n",
    "m, n = np.shape( data )[0], np.shape(data)[1] - 1\n",
    "X = np.c_[ np.ones((m,1)), data[:, :n]]\n",
    "y = data[:, n:n+1]"
   ]
  },
  {
   "cell_type": "code",
   "execution_count": 24,
   "metadata": {
    "collapsed": false
   },
   "outputs": [],
   "source": [
    "# plot the data\n",
    "def plot(data):\n",
    "    pos = data[data[:,2] == 1]\n",
    "    neg = data[data[:,2] == 0]\n",
    "    \n",
    "    pl.xlabel(\"Exam 1 score\")\n",
    "    pl.ylabel(\"Exam 2 score\")\n",
    "    pl.xlim([25,115])\n",
    "    pl.ylim([25,115])\n",
    "    \n",
    "    pl.scatter(neg[:,0], neg[:,1], c ='y', marker='o', s=40, linewidths=1, label = \"Not admitted\")\n",
    "    pl.scatter(pos[:,0], pos[:,1], c ='b', marker='+', s=40, linewidths=2, label = \"Admitted\")\n",
    "    pl.legend()"
   ]
  },
  {
   "cell_type": "code",
   "execution_count": 25,
   "metadata": {
    "collapsed": false
   },
   "outputs": [
    {
     "data": {
      "image/png": "[encoded data removed]",
      "text/plain": [
       "<matplotlib.figure.Figure at 0x17546978>"
      ]
     },
     "metadata": {},
     "output_type": "display_data"
    }
   ],
   "source": [
    "plot(data)"
   ]
  },
  {
   "cell_type": "markdown",
   "metadata": {},
   "source": [
    "# Part 1 of Assignment"
   ]
  },
  {
   "cell_type": "code",
   "execution_count": 31,
   "metadata": {
    "collapsed": true
   },
   "outputs": [],
   "source": [
    "# create the sigmoid function\n",
    "def sigmoid(z) :\n",
    "    return 1.0 / (1.0 + np.exp(-z))\n",
    "    #return scipy.special.expit(z)"
   ]
  },
  {
   "cell_type": "code",
   "execution_count": 40,
   "metadata": {
    "collapsed": true
   },
   "outputs": [],
   "source": [
    "# define the cost computation\n",
    "def computeCost(theta, X, y):\n",
    "    m = np.shape( X )[0]\n",
    "    hypo = sigmoid(X.dot(theta))\n",
    "    term1 = np.log( hypo  ).T.dot( - y)\n",
    "    term2 = np.log(1.0 - hypo).T.dot(1 - y)\n",
    "    return ((term1 - term2) / m ).flatten()"
   ]
  },
  {
   "cell_type": "code",
   "execution_count": 34,
   "metadata": {
    "collapsed": false
   },
   "outputs": [],
   "source": [
    "# define the gradient cost function\n",
    "def gradientCost(theta, X, y):\n",
    "    m = np.shape(X)[0]\n",
    "    return (X.T.dot(sigmoid( X.dot( theta)) - y)) / m"
   ]
  },
  {
   "cell_type": "code",
   "execution_count": 43,
   "metadata": {
    "collapsed": true
   },
   "outputs": [],
   "source": [
    "# create function funtion for gradient and cost\n",
    "def costFunction(theta, X, y):\n",
    "    cost = computeCost(theta, X, y)\n",
    "    gradient = gradientCost(theta, X, y)\n",
    "    return cost"
   ]
  },
  {
   "cell_type": "code",
   "execution_count": 46,
   "metadata": {
    "collapsed": false
   },
   "outputs": [],
   "source": [
    "# set theta\n",
    "theta = np.zeros( (n+1, 1))"
   ]
  },
  {
   "cell_type": "code",
   "execution_count": 47,
   "metadata": {
    "collapsed": false
   },
   "outputs": [
    {
     "name": "stdout",
     "output_type": "stream",
     "text": [
      "[ 0.69314718]\n"
     ]
    }
   ],
   "source": [
    "print computeCost(theta,X, y)"
   ]
  },
  {
   "cell_type": "code",
   "execution_count": 51,
   "metadata": {
    "collapsed": false
   },
   "outputs": [
    {
     "name": "stdout",
     "output_type": "stream",
     "text": [
      "Optimization terminated successfully.\n",
      "         Current function value: 0.203498\n",
      "         Iterations: 157\n",
      "         Function evaluations: 287\n",
      "Thetas :  [-25.16130062   0.20623142   0.20147143]\n",
      "Min Cost : 0.20349770159\n"
     ]
    }
   ],
   "source": [
    "# find the minium theta\n",
    "min_theta = scipy.optimize.fmin(costFunction, x0 = theta, args = (X,y), maxiter=500, full_output=True)\n",
    "\n",
    "print \"Thetas : \", min_theta[0]\n",
    "print \"Min Cost :\",min_theta[1]\n",
    "\n",
    "thetas = min_theta[0]"
   ]
  },
  {
   "cell_type": "code",
   "execution_count": 55,
   "metadata": {
    "collapsed": false
   },
   "outputs": [],
   "source": [
    "def plotBoundary( data, X, theta ):\n",
    "    plot( data )\n",
    "    plot_x = np.array( [min(X[:,1]), max(X[:,1])] )\n",
    "    plot_y = (-1./ theta[2]) * (theta[1] * plot_x + theta[0])\n",
    "    pl.plot( plot_x, plot_y )"
   ]
  },
  {
   "cell_type": "code",
   "execution_count": 56,
   "metadata": {
    "collapsed": false
   },
   "outputs": [
    {
     "data": {
      "image/png": "[encoded data removed]",
      "text/plain": [
       "<matplotlib.figure.Figure at 0x17a07cc0>"
      ]
     },
     "metadata": {},
     "output_type": "display_data"
    }
   ],
   "source": [
    "plotBoundary(data, X, thetas)"
   ]
  },
  {
   "cell_type": "code",
   "execution_count": 64,
   "metadata": {
    "collapsed": false
   },
   "outputs": [
    {
     "name": "stdout",
     "output_type": "stream",
     "text": [
      "1\n"
     ]
    }
   ],
   "source": [
    "# predict test cases\n",
    "test = np.array([1,45,85])\n",
    "\n",
    "def predict( theta, X, binary=True ):\n",
    "\tprob = sigmoid( theta.dot( X ))\n",
    "\tif binary :\n",
    "\t\treturn 1 if prob > 0.5 else 0\n",
    "\telse:\n",
    "\t\treturn prob\n",
    "\n",
    "print predict(test, thetas)"
   ]
  },
  {
   "cell_type": "markdown",
   "metadata": {},
   "source": [
    "## Part 2 Assignment"
   ]
  },
  {
   "cell_type": "code",
   "execution_count": null,
   "metadata": {
    "collapsed": true
   },
   "outputs": [],
   "source": [
    "https://github.com/subokita/mlclass/blob/master/ex2_reg.py"
   ]
  },
  {
   "cell_type": "code",
   "execution_count": null,
   "metadata": {
    "collapsed": true
   },
   "outputs": [],
   "source": []
  },
  {
   "cell_type": "code",
   "execution_count": null,
   "metadata": {
    "collapsed": true
   },
   "outputs": [],
   "source": []
  },
  {
   "cell_type": "code",
   "execution_count": null,
   "metadata": {
    "collapsed": true
   },
   "outputs": [],
   "source": []
  },
  {
   "cell_type": "code",
   "execution_count": null,
   "metadata": {
    "collapsed": true
   },
   "outputs": [],
   "source": []
  }
 ],
 "metadata": {
  "kernelspec": {
   "display_name": "Python 2",
   "language": "python",
   "name": "python2"
  },
  "language_info": {
   "codemirror_mode": {
    "name": "ipython",
    "version": 2
   },
   "file_extension": ".py",
   "mimetype": "text/x-python",
   "name": "python",
   "nbconvert_exporter": "python",
   "pygments_lexer": "ipython2",
   "version": "2.7.8"
  }
 },
 "nbformat": 4,
 "nbformat_minor": 0
}
