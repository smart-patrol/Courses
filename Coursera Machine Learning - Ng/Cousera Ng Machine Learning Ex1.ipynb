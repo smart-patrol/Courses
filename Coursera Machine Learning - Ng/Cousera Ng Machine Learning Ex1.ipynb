{
 "cells": [
  {
   "cell_type": "code",
   "execution_count": 1,
   "metadata": {
    "collapsed": true
   },
   "outputs": [],
   "source": [
    "import pandas as pd\n",
    "import numpy as np\n",
    "import matplotlib.pyplot as plt\n",
    "import os\n",
    "%matplotlib inline"
   ]
  },
  {
   "cell_type": "code",
   "execution_count": 10,
   "metadata": {
    "collapsed": false
   },
   "outputs": [],
   "source": [
    "data = pd.read_csv(\"C:\\\\Users\\\\Home\\\\Documents\\\\R_code\\\\Coursera\\\\Machine Learning\\\\machine-learning-ex1\\\\ex1\\\\ex1data1.txt\"\n",
    "                  ,header = None\n",
    "                  ,names = ['population', 'profit'])"
   ]
  },
  {
   "cell_type": "code",
   "execution_count": 8,
   "metadata": {
    "collapsed": false
   },
   "outputs": [
    {
     "data": {
      "text/plain": [
       "<matplotlib.axes._subplots.AxesSubplot at 0x174f1e48>"
      ]
     },
     "execution_count": 8,
     "metadata": {},
     "output_type": "execute_result"
    },
    {
     "data": {
      "image/png": "[encoded data removed]",
      "text/plain": [
       "<matplotlib.figure.Figure at 0x174b13c8>"
      ]
     },
     "metadata": {},
     "output_type": "display_data"
    }
   ],
   "source": [
    "import seaborn as sns\n",
    "\n",
    "data.plot(x='population', y = 'profit', kind = 'scatter')"
   ]
  },
  {
   "cell_type": "code",
   "execution_count": 11,
   "metadata": {
    "collapsed": false
   },
   "outputs": [],
   "source": [
    "# gradient descent\n",
    "data.insert(0, 'ones',1.)"
   ]
  },
  {
   "cell_type": "code",
   "execution_count": 12,
   "metadata": {
    "collapsed": true
   },
   "outputs": [],
   "source": [
    "theta = np.zeros(2)"
   ]
  },
  {
   "cell_type": "code",
   "execution_count": 13,
   "metadata": {
    "collapsed": true
   },
   "outputs": [],
   "source": [
    "# settings\n",
    "iterations = 1500\n",
    "alpha = 0.01"
   ]
  },
  {
   "cell_type": "code",
   "execution_count": 15,
   "metadata": {
    "collapsed": false
   },
   "outputs": [],
   "source": [
    "X = data[['ones','population']].values\n",
    "y = data['profit'].values\n",
    "m = len(data)"
   ]
  },
  {
   "cell_type": "code",
   "execution_count": 29,
   "metadata": {
    "collapsed": false
   },
   "outputs": [
    {
     "data": {
      "text/plain": [
       "array([ 0.])"
      ]
     },
     "execution_count": 29,
     "metadata": {},
     "output_type": "execute_result"
    }
   ],
   "source": [
    "#http://openclassroom.stanford.edu/MainFolder/DocumentPage.php?course=MachineLearning&doc=exercises/ex3/ex3.html"
   ]
  },
  {
   "cell_type": "code",
   "execution_count": 77,
   "metadata": {
    "collapsed": true
   },
   "outputs": [],
   "source": [
    "def compute_cost(X, y, theta):\n",
    "    # COMPUTECOST Compute cost for linear regression\n",
    "    # J = COMPUTECOST(X, y, theta) computes the cost of using theta as the\n",
    "    # parameter for linear regression to fit the data points in X and y\n",
    "    \n",
    "    # some useful values\n",
    "    m = len(X)\n",
    "    \n",
    "    # You need to return this value correctly:\n",
    "    J = 0\n",
    "    \n",
    "    # ====================== YOUR CODE HERE ======================\n",
    "    # Instructions: Compute the cost of a particular choice of theta\n",
    "    #               You should set J to the cost.\n",
    "     \n",
    "    J = 1/(2*m) * (X* theta - y[:]).T * (X*theta - y)\n",
    "    \n",
    "    # ============================================================\n",
    "    return J.sum()"
   ]
  },
  {
   "cell_type": "code",
   "execution_count": 80,
   "metadata": {
    "collapsed": false
   },
   "outputs": [
    {
     "name": "stdout",
     "output_type": "stream",
     "text": [
      "0.0\n"
     ]
    }
   ],
   "source": [
    "for i in range(0,1) :\n",
    "    print compute_cost(X[:,1], y, theta[i])"
   ]
  },
  {
   "cell_type": "code",
   "execution_count": null,
   "metadata": {
    "collapsed": true
   },
   "outputs": [],
   "source": [
    "def gradient_descent(X, y, theta, alpha, num_iters):\n",
    "    # GRADIENTDESCENT Performs gradient descent to learn theta\n",
    "    # theta = GRADIENTDESCENT(X, y, theta, alpha, num_iters) updates theta by \n",
    "    # taking num_iters gradient steps with learning rate alpha\n",
    "    \n",
    "    # Initialize\n",
    "    J_history = np.zeros((num_iters,))\n",
    "    T_history = np.zeros((num_iters,2))\n",
    "    \n",
    "    for i in range(num_iters):\n",
    "        T_history[i] = theta\n",
    "\n",
    "        ### ========= YOUR CODE HERE ============\n",
    "        # Instructions: Perform a single gradient step on the parameter vector theta.\n",
    "        \n",
    "        predictions  = X * theta\n",
    "        updates = np.linalg.inv(X) *  (predictions - y)\n",
    "        theta = theta - alpha * (1/m) * updates\n",
    "        \n",
    "        ### =====================================\n",
    "        \n",
    "        J_history[i] = compute_cost(X, y, theta)\n",
    "    return theta, J_history, T_history"
   ]
  },
  {
   "cell_type": "code",
   "execution_count": null,
   "metadata": {
    "collapsed": true
   },
   "outputs": [],
   "source": []
  },
  {
   "cell_type": "code",
   "execution_count": 16,
   "metadata": {
    "collapsed": false
   },
   "outputs": [],
   "source": [
    "'''Standard python modules'''\n",
    "import sys\n",
    "\n",
    "'''For scientific computing'''\n",
    "from numpy import *\n",
    "import scipy\n",
    "\n",
    "'''For plotting'''\n",
    "from matplotlib import pyplot, cm\n",
    "from mpl_toolkits.mplot3d import Axes3D\n",
    "\n",
    "EX_DIRECTORY_PATH = 'C:\\\\Users\\\\Home\\\\Documents\\\\R_code\\\\Coursera\\\\Machine Learning\\\\machine-learning-ex1\\\\ex1\\\\'\n",
    "\n",
    "def part1():\n",
    "    A = eye(5)\n",
    "    print A\n",
    "\n",
    "\n",
    "def hypothesis(X, theta):\n",
    "    \"\"\"Hypothesis function for linear regression\n",
    "    this should be inlined code, but it's here for clear representation purpsoes\n",
    "    \"\"\"\n",
    "    return X.dot(theta)\n",
    "\n",
    "\n",
    "def computeCostLoop(X, y, theta):\n",
    "    \"\"\"Compute cost but in the slower loop method, in order to show how the\n",
    "    pre-vectorization algorithm initially works. Always start with loop version first\n",
    "    and code the vectorized version later\n",
    "    \"\"\"\n",
    "    m = len(y)  # or m = shape(y)[0], since y is 1D\n",
    "\n",
    "    cumulative_sum = 0\n",
    "    for i in range(0, m):\n",
    "        cumulative_sum += (hypothesis(X[i], theta) - y[i]) ** 2\n",
    "    cumulative_sum = (1.0 / (2 * m)) * cumulative_sum\n",
    "    return cumulative_sum\n",
    "\n",
    "\n",
    "def computeCost(X, y, theta):\n",
    "    \"\"\"Compute cost, vectorized version\"\"\"\n",
    "    m \t = len(y)\n",
    "    term = hypothesis(X, theta) - y\n",
    "    # sum( term**2 ) in this case ~= term.T.dot( term )\n",
    "    return (term.T.dot(term) / (2 * m))[0, 0]\n"
   ]
  },
  {
   "cell_type": "code",
   "execution_count": 17,
   "metadata": {
    "collapsed": false
   },
   "outputs": [],
   "source": [
    "def gradientDescentLoop(X, y, theta, alpha, iterations):\n",
    "    \"\"\" Gradient descent loop version\"\"\"\n",
    "    grad = copy(theta)\n",
    "    m = len(y)\n",
    "    n = shape(X)[1]\n",
    "    \n",
    "    for counter in range(0, iterations):\n",
    "        # create n number of cumulative inner sums\n",
    "        cum_sum = [0 for x in range(0,1)]\n",
    "        \n",
    "        for j in range(0,m):\n",
    "            for i in range(0,m):\n",
    "                term = (hypothesis(X[i], grad) - y[i])\n",
    "                cum_sum[j] += X[i,j] * (term)\n",
    "                \n",
    "    # assigne new values foreach gradient \n",
    "        for j in range(0,n):\n",
    "            grad[j] = grad[j] - cum_sum[j] * (alpha / m)\n",
    "            \n",
    "    return grad"
   ]
  },
  {
   "cell_type": "code",
   "execution_count": 18,
   "metadata": {
    "collapsed": true
   },
   "outputs": [],
   "source": [
    "def gradientDescent(X, y, theta, alpha, iterations):\n",
    "    \"\"\" Vectorized gradient descent\"\"\"\n",
    "    grad = copy(theta)\n",
    "    m = len(y)\n",
    "    \n",
    "    for counter in range(0, iterations):\n",
    "        inner_sum = X.T.dot(hypothesis(X, grad)- y)\n",
    "        grad -= alpha / m * inner_sum\n",
    "        \n",
    "    return grad"
   ]
  },
  {
   "cell_type": "code",
   "execution_count": 19,
   "metadata": {
    "collapsed": true
   },
   "outputs": [],
   "source": [
    "def plot(X, y):\n",
    "    \"\"\"Create a plot out of X and y data, X should exclude the intercept units.\n",
    "    Call pyplot.show(block=True) in order to show the plot window\"\"\"\n",
    "    pyplot.plot(X, y, 'rx', markersize=5 )\n",
    "    pyplot.ylabel('Profit in $10,000s')\n",
    "    pyplot.xlabel('Population of City in 10,000s')"
   ]
  },
  {
   "cell_type": "code",
   "execution_count": 23,
   "metadata": {
    "collapsed": true
   },
   "outputs": [],
   "source": [
    "%matplotlib inline"
   ]
  },
  {
   "cell_type": "code",
   "execution_count": 25,
   "metadata": {
    "collapsed": false
   },
   "outputs": [
    {
     "data": {
      "image/png": "[encoded data removed]",
      "text/plain": [
       "<matplotlib.figure.Figure at 0xb9d0978>"
      ]
     },
     "metadata": {},
     "output_type": "display_data"
    }
   ],
   "source": [
    "data = genfromtxt( EX_DIRECTORY_PATH + \"ex1data1.txt\", delimiter=',')\n",
    "X, y = data[:, 0], data[:, 1]\n",
    "m \t = len(y)\n",
    "y \t = y.reshape(m, 1)\n",
    "plot(X, y)"
   ]
  },
  {
   "cell_type": "code",
   "execution_count": 26,
   "metadata": {
    "collapsed": false
   },
   "outputs": [
    {
     "name": "stdout",
     "output_type": "stream",
     "text": [
      "32.0727338775\n",
      "[[-3.63029144]\n",
      " [ 1.16636235]]\n"
     ]
    }
   ],
   "source": [
    "X = c_[ones((m,1)), X]\n",
    "theta = zeros((2,1))\n",
    "iterations = 1500\n",
    "alpha = 0.01\n",
    "\n",
    "cost = computeCost(X,y,theta)\n",
    "theta = gradientDescent(X,y,theta, alpha, iterations)\n",
    "print cost\n",
    "print theta"
   ]
  },
  {
   "cell_type": "code",
   "execution_count": 27,
   "metadata": {
    "collapsed": false
   },
   "outputs": [
    {
     "name": "stdout",
     "output_type": "stream",
     "text": [
      "[ 0.45197679]\n",
      "[ 4.53424501]\n"
     ]
    }
   ],
   "source": [
    "predict1 = array([1,3.5]).dot(theta)\n",
    "predict2 = array([1,7]).dot(theta)\n",
    "print predict1\n",
    "print predict2"
   ]
  },
  {
   "cell_type": "code",
   "execution_count": 29,
   "metadata": {
    "collapsed": false
   },
   "outputs": [
    {
     "data": {
      "text/plain": [
       "[<matplotlib.lines.Line2D at 0xb9d0b00>]"
      ]
     },
     "execution_count": 29,
     "metadata": {},
     "output_type": "execute_result"
    },
    {
     "data": {
      "image/png": "[encoded data removed]",
      "text/plain": [
       "<matplotlib.figure.Figure at 0xbb22320>"
      ]
     },
     "metadata": {},
     "output_type": "display_data"
    }
   ],
   "source": [
    "plot(X[:,1], y)\n",
    "pyplot.plot(X[:,1], X.dot(theta), \"b-\")"
   ]
  },
  {
   "cell_type": "code",
   "execution_count": 30,
   "metadata": {
    "collapsed": true
   },
   "outputs": [],
   "source": [
    "# part 2.4\n",
    "data = genfromtxt(EX_DIRECTORY_PATH + \"/ex1data1.txt\", delimiter=\",\")\n",
    "X,y = data[:,0], data[:,1]\n",
    "m = len(y)\n",
    "y = y.reshape(m,1)\n",
    "X = c_[ones((m,1)), X]"
   ]
  },
  {
   "cell_type": "code",
   "execution_count": 31,
   "metadata": {
    "collapsed": true
   },
   "outputs": [],
   "source": [
    "theta0_vals = linspace(-10,10,100)\n",
    "theta1_vals = linspace(-4,4,100)"
   ]
  },
  {
   "cell_type": "code",
   "execution_count": null,
   "metadata": {
    "collapsed": false
   },
   "outputs": [],
   "source": [
    "J_vals = zeros((len(theta0_vals), len(theta1_vals)), dtype = float64)\n",
    "for i, v0 in enumerate(theta0_vals):\n",
    "    for j, v1 in enumerate(theta1_vals):\n",
    "        theta = array((theta0_vals[i], theta1_vals[j])).reshape(2,1)\n",
    "        J_vals[i,j] = computeCost(X,y,theta)\n",
    "        \n",
    "        R, P = meshgrid(theta0_vals, theta1_vals)\n",
    "        \n",
    "        fig = pyplot.figure()\n",
    "        ax = fig.gca(projection = '3d')\n",
    "        ax.plot_surface(R,P, J_vals)\n",
    "        \n",
    "        fig = pyplot.figure()\n",
    "        pyplot.contourf(R, P, J_vals.T, logspace(-2, 3, 20))\n",
    "        pyplot.plot(theta[0], theta[1], 'rx', markersize = 10)"
   ]
  },
  {
   "cell_type": "code",
   "execution_count": null,
   "metadata": {
    "collapsed": true
   },
   "outputs": [],
   "source": []
  }
 ],
 "metadata": {
  "kernelspec": {
   "display_name": "Python 2",
   "language": "python",
   "name": "python2"
  },
  "language_info": {
   "codemirror_mode": {
    "name": "ipython",
    "version": 2
   },
   "file_extension": ".py",
   "mimetype": "text/x-python",
   "name": "python",
   "nbconvert_exporter": "python",
   "pygments_lexer": "ipython2",
   "version": "2.7.8"
  }
 },
 "nbformat": 4,
 "nbformat_minor": 0
}
